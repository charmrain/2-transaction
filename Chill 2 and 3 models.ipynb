{
 "cells": [
  {
   "cell_type": "code",
   "execution_count": 4,
   "id": "f5646dfb",
   "metadata": {},
   "outputs": [],
   "source": [
    "import pandas as pd\n",
    "import numpy as np\n",
    "import matplotlib.pyplot as plt\n",
    "import statsmodels.api as sm\n",
    "from statsmodels.stats.outliers_influence import variance_inflation_factor"
   ]
  },
  {
   "cell_type": "code",
   "execution_count": 2,
   "id": "f2495b5a",
   "metadata": {},
   "outputs": [],
   "source": [
    "pd.set_option('display.max_columns',100)\n",
    "pd.set_option('display.max_rows',100)"
   ]
  },
  {
   "cell_type": "code",
   "execution_count": 3,
   "id": "381466df",
   "metadata": {},
   "outputs": [],
   "source": [
    "df = pd.read_excel(r'工厂类冷冻站运行与电量数据.xlsx')\n",
    "# loading the updated columns name from an offline file\n",
    "col = pd.read_excel('col_name.xlsx',skiprows=1)\n",
    "df.columns = list(col['col_name_updated'])"
   ]
  },
  {
   "cell_type": "code",
   "execution_count": 5,
   "id": "63c57cb7",
   "metadata": {},
   "outputs": [],
   "source": [
    "df = df.set_index('time')\n",
    "df['Hour'] = df.index.hour\n",
    "df['Day'] = df.index.day\n",
    "df['Month'] = df.index.month\n",
    "df['weekday_name']= df.index.day_name()\n",
    "df['weekday'] = df.index.weekday\n",
    "df['Is_weekend'] = df['weekday'].isin((5,6))"
   ]
  },
  {
   "cell_type": "code",
   "execution_count": 7,
   "id": "d216d7c2",
   "metadata": {},
   "outputs": [],
   "source": [
    "columns_chiller2 = ['Temp', 'humid', '2#Chiller','2#Chiller_freeze_in_temp',\n",
    "       '2#Chiller_freeze_out_temp', '2#Chiller_freeze_Flow',\n",
    "       '2#Chiller_cooling_in_temp', '2#Chiller_cooling_out_temp',\n",
    "       '2#Chiller_cooling_Flow', '2#Chiller_power', '2-CH-UA(V)', '2-CH-IA(A)',\n",
    "       '2-CH-F(HZ)','2#chiller_cooling_capacity','Hour', 'Day',\n",
    "       'Month',  'weekday', 'Is_weekend']\n",
    "columns_chiller3 = ['Temp', 'humid', '3#Chiller','3#Chiller_freeze_in_temp',\n",
    "       '3#Chiller_freeze_out_temp', '3#Chiller_freeze_Flow',\n",
    "       '3#Chiller_cooling_in_temp', '3#Chiller_cooling_out_temp',\n",
    "       '3#Chiller_cooling_Flow', '3#Chiller_power', '3-CH-UA(V)', '3-CH-IA(A)',\n",
    "       '3-CH-F(HZ)','3#chiller_cooling_capacity','Hour', 'Day',\n",
    "       'Month',  'weekday', 'Is_weekend']"
   ]
  },
  {
   "cell_type": "code",
   "execution_count": 8,
   "id": "ae9eced5",
   "metadata": {},
   "outputs": [],
   "source": [
    "chiller2 = df[columns_chiller2].copy()\n",
    "chiller2['2#Chiller_power'] = abs(chiller2['2#Chiller_power'])\n",
    "chiller3 = df[columns_chiller3].copy()\n",
    "chiller3['3#Chiller_power'] = abs(chiller3['3#Chiller_power'])"
   ]
  },
  {
   "cell_type": "code",
   "execution_count": 9,
   "id": "c8ad7ed6",
   "metadata": {},
   "outputs": [],
   "source": [
    "# explict which variable is used to construct X\n",
    "#  'Is_weekend' need to deploy a conversion function\n",
    "indep2 = ['Temp', 'humid',  '2#Chiller', '2#Chiller_freeze_in_temp',\n",
    "       '2#Chiller_freeze_out_temp', '2#Chiller_freeze_Flow',\n",
    "       '2#Chiller_cooling_in_temp', '2#Chiller_cooling_out_temp',\n",
    "       '2#Chiller_cooling_Flow', '2-CH-UA(V)', '2-CH-IA(A)',\n",
    "       '2-CH-F(HZ)','2#chiller_cooling_capacity','Hour', 'Day',\n",
    "       'Month',  'weekday']\n",
    "\n",
    "indep3 = ['Temp', 'humid',  '3#Chiller', '3#Chiller_freeze_in_temp',\n",
    "       '3#Chiller_freeze_out_temp', '3#Chiller_freeze_Flow',\n",
    "       '3#Chiller_cooling_in_temp', '3#Chiller_cooling_out_temp',\n",
    "       '3#Chiller_cooling_Flow', '3-CH-UA(V)', '3-CH-IA(A)',\n",
    "       '3-CH-F(HZ)','3#chiller_cooling_capacity','Hour', 'Day',\n",
    "       'Month',  'weekday']"
   ]
  },
  {
   "cell_type": "code",
   "execution_count": null,
   "id": "01aa05f3",
   "metadata": {},
   "outputs": [],
   "source": []
  },
  {
   "cell_type": "markdown",
   "id": "d3576419",
   "metadata": {},
   "source": [
    "## create model for chiller2 and chiller3"
   ]
  },
  {
   "cell_type": "code",
   "execution_count": 11,
   "id": "c483fcf3",
   "metadata": {},
   "outputs": [
    {
     "name": "stdout",
     "output_type": "stream",
     "text": [
      "                                 OLS Regression Results                                \n",
      "=======================================================================================\n",
      "Dep. Variable:        2#Chiller_power   R-squared (uncentered):                   0.970\n",
      "Model:                            OLS   Adj. R-squared (uncentered):              0.970\n",
      "Method:                 Least Squares   F-statistic:                          2.813e+04\n",
      "Date:                Mon, 18 Jul 2022   Prob (F-statistic):                        0.00\n",
      "Time:                        16:29:49   Log-Likelihood:                         -68113.\n",
      "No. Observations:               14880   AIC:                                  1.363e+05\n",
      "Df Residuals:                   14863   BIC:                                  1.364e+05\n",
      "Df Model:                          17                                                  \n",
      "Covariance Type:            nonrobust                                                  \n",
      "==============================================================================================\n",
      "                                 coef    std err          t      P>|t|      [0.025      0.975]\n",
      "----------------------------------------------------------------------------------------------\n",
      "Temp                          -0.6684      0.063    -10.683      0.000      -0.791      -0.546\n",
      "humid                      -4.811e-06      0.000     -0.016      0.988      -0.001       0.001\n",
      "2#Chiller                    146.1530      0.971    150.539      0.000     144.250     148.056\n",
      "2#Chiller_freeze_in_temp      -3.8356      0.235    -16.356      0.000      -4.295      -3.376\n",
      "2#Chiller_freeze_out_temp      4.4943      0.243     18.518      0.000       4.019       4.970\n",
      "2#Chiller_freeze_Flow         -0.0574      0.002    -27.416      0.000      -0.062      -0.053\n",
      "2#Chiller_cooling_in_temp      2.2639      0.101     22.474      0.000       2.066       2.461\n",
      "2#Chiller_cooling_out_temp     1.3783      0.119     11.535      0.000       1.144       1.613\n",
      "2#Chiller_cooling_Flow         0.0347      0.002     18.511      0.000       0.031       0.038\n",
      "2-CH-UA(V)                    -0.0021      0.000    -19.220      0.000      -0.002      -0.002\n",
      "2-CH-IA(A)                     0.0026      0.000     19.596      0.000       0.002       0.003\n",
      "2-CH-F(HZ)                     0.0002      0.000      0.705      0.481      -0.000       0.001\n",
      "2#chiller_cooling_capacity     0.0621      0.001     78.539      0.000       0.061       0.064\n",
      "Hour                          -0.0275      0.029     -0.961      0.337      -0.084       0.029\n",
      "Day                           -0.4519      0.026    -17.140      0.000      -0.504      -0.400\n",
      "Month                         -3.0234      0.172    -17.545      0.000      -3.361      -2.686\n",
      "weekday                       -1.0669      0.098    -10.879      0.000      -1.259      -0.875\n",
      "==============================================================================\n",
      "Omnibus:                     4896.696   Durbin-Watson:                   0.778\n",
      "Prob(Omnibus):                  0.000   Jarque-Bera (JB):           502746.369\n",
      "Skew:                          -0.592   Prob(JB):                         0.00\n",
      "Kurtosis:                      31.451   Cond. No.                     1.15e+05\n",
      "==============================================================================\n",
      "\n",
      "Notes:\n",
      "[1] R² is computed without centering (uncentered) since the model does not contain a constant.\n",
      "[2] Standard Errors assume that the covariance matrix of the errors is correctly specified.\n",
      "[3] The condition number is large, 1.15e+05. This might indicate that there are\n",
      "strong multicollinearity or other numerical problems.\n"
     ]
    }
   ],
   "source": [
    "def get_stats(df, x, y ):\n",
    "    x = df[x]\n",
    "    y = df[y]\n",
    "    results = sm.OLS(y, x).fit()\n",
    "    print(results.summary())\n",
    "    \n",
    "get_stats(df = chiller2, x = indep2, y = '2#Chiller_power' )"
   ]
  },
  {
   "cell_type": "code",
   "execution_count": 12,
   "id": "d041f3a4",
   "metadata": {},
   "outputs": [
    {
     "name": "stdout",
     "output_type": "stream",
     "text": [
      "                                 OLS Regression Results                                \n",
      "=======================================================================================\n",
      "Dep. Variable:        2#Chiller_power   R-squared (uncentered):                   0.970\n",
      "Model:                            OLS   Adj. R-squared (uncentered):              0.970\n",
      "Method:                 Least Squares   F-statistic:                          2.989e+04\n",
      "Date:                Mon, 18 Jul 2022   Prob (F-statistic):                        0.00\n",
      "Time:                        16:36:06   Log-Likelihood:                         -68113.\n",
      "No. Observations:               14880   AIC:                                  1.363e+05\n",
      "Df Residuals:                   14864   BIC:                                  1.364e+05\n",
      "Df Model:                          16                                                  \n",
      "Covariance Type:            nonrobust                                                  \n",
      "==============================================================================================\n",
      "                                 coef    std err          t      P>|t|      [0.025      0.975]\n",
      "----------------------------------------------------------------------------------------------\n",
      "Temp                          -0.6684      0.063    -10.683      0.000      -0.791      -0.546\n",
      "2#Chiller                    146.1531      0.971    150.545      0.000     144.250     148.056\n",
      "2#Chiller_freeze_in_temp      -3.8356      0.234    -16.357      0.000      -4.295      -3.376\n",
      "2#Chiller_freeze_out_temp      4.4943      0.243     18.520      0.000       4.019       4.970\n",
      "2#Chiller_freeze_Flow         -0.0574      0.002    -27.428      0.000      -0.062      -0.053\n",
      "2#Chiller_cooling_in_temp      2.2639      0.101     22.475      0.000       2.066       2.461\n",
      "2#Chiller_cooling_out_temp     1.3783      0.119     11.535      0.000       1.144       1.613\n",
      "2#Chiller_cooling_Flow         0.0347      0.002     18.523      0.000       0.031       0.038\n",
      "2-CH-UA(V)                    -0.0021      0.000    -19.224      0.000      -0.002      -0.002\n",
      "2-CH-IA(A)                     0.0026      0.000     19.596      0.000       0.002       0.003\n",
      "2-CH-F(HZ)                     0.0002      0.000      0.705      0.481      -0.000       0.001\n",
      "2#chiller_cooling_capacity     0.0621      0.001     78.553      0.000       0.061       0.064\n",
      "Hour                          -0.0275      0.029     -0.960      0.337      -0.084       0.029\n",
      "Day                           -0.4519      0.026    -17.141      0.000      -0.504      -0.400\n",
      "Month                         -3.0234      0.172    -17.546      0.000      -3.361      -2.686\n",
      "weekday                       -1.0669      0.098    -10.879      0.000      -1.259      -0.875\n",
      "==============================================================================\n",
      "Omnibus:                     4896.665   Durbin-Watson:                   0.778\n",
      "Prob(Omnibus):                  0.000   Jarque-Bera (JB):           502741.503\n",
      "Skew:                          -0.592   Prob(JB):                         0.00\n",
      "Kurtosis:                      31.451   Cond. No.                     1.15e+05\n",
      "==============================================================================\n",
      "\n",
      "Notes:\n",
      "[1] R² is computed without centering (uncentered) since the model does not contain a constant.\n",
      "[2] Standard Errors assume that the covariance matrix of the errors is correctly specified.\n",
      "[3] The condition number is large, 1.15e+05. This might indicate that there are\n",
      "strong multicollinearity or other numerical problems.\n"
     ]
    }
   ],
   "source": [
    "indep2.remove(\"humid\")\n",
    "get_stats(df = chiller2, x = indep2, y = '2#Chiller_power' )"
   ]
  },
  {
   "cell_type": "code",
   "execution_count": 13,
   "id": "0fed04d4",
   "metadata": {},
   "outputs": [
    {
     "name": "stdout",
     "output_type": "stream",
     "text": [
      "                                 OLS Regression Results                                \n",
      "=======================================================================================\n",
      "Dep. Variable:        2#Chiller_power   R-squared (uncentered):                   0.970\n",
      "Model:                            OLS   Adj. R-squared (uncentered):              0.970\n",
      "Method:                 Least Squares   F-statistic:                          3.188e+04\n",
      "Date:                Mon, 18 Jul 2022   Prob (F-statistic):                        0.00\n",
      "Time:                        16:37:23   Log-Likelihood:                         -68113.\n",
      "No. Observations:               14880   AIC:                                  1.363e+05\n",
      "Df Residuals:                   14865   BIC:                                  1.364e+05\n",
      "Df Model:                          15                                                  \n",
      "Covariance Type:            nonrobust                                                  \n",
      "==============================================================================================\n",
      "                                 coef    std err          t      P>|t|      [0.025      0.975]\n",
      "----------------------------------------------------------------------------------------------\n",
      "Temp                          -0.6682      0.063    -10.681      0.000      -0.791      -0.546\n",
      "2#Chiller                    146.1813      0.970    150.705      0.000     144.280     148.083\n",
      "2#Chiller_freeze_in_temp      -3.8346      0.234    -16.354      0.000      -4.294      -3.375\n",
      "2#Chiller_freeze_out_temp      4.4938      0.243     18.518      0.000       4.018       4.969\n",
      "2#Chiller_freeze_Flow         -0.0574      0.002    -27.425      0.000      -0.061      -0.053\n",
      "2#Chiller_cooling_in_temp      2.2633      0.101     22.470      0.000       2.066       2.461\n",
      "2#Chiller_cooling_out_temp     1.3788      0.119     11.540      0.000       1.145       1.613\n",
      "2#Chiller_cooling_Flow         0.0347      0.002     18.529      0.000       0.031       0.038\n",
      "2-CH-UA(V)                    -0.0021   9.86e-05    -21.049      0.000      -0.002      -0.002\n",
      "2-CH-IA(A)                     0.0026      0.000     19.597      0.000       0.002       0.003\n",
      "2#chiller_cooling_capacity     0.0621      0.001     78.553      0.000       0.061       0.064\n",
      "Hour                          -0.0274      0.029     -0.956      0.339      -0.084       0.029\n",
      "Day                           -0.4518      0.026    -17.138      0.000      -0.503      -0.400\n",
      "Month                         -3.0241      0.172    -17.550      0.000      -3.362      -2.686\n",
      "weekday                       -1.0676      0.098    -10.887      0.000      -1.260      -0.875\n",
      "==============================================================================\n",
      "Omnibus:                     4896.709   Durbin-Watson:                   0.778\n",
      "Prob(Omnibus):                  0.000   Jarque-Bera (JB):           502744.363\n",
      "Skew:                          -0.592   Prob(JB):                         0.00\n",
      "Kurtosis:                      31.451   Cond. No.                     1.12e+05\n",
      "==============================================================================\n",
      "\n",
      "Notes:\n",
      "[1] R² is computed without centering (uncentered) since the model does not contain a constant.\n",
      "[2] Standard Errors assume that the covariance matrix of the errors is correctly specified.\n",
      "[3] The condition number is large, 1.12e+05. This might indicate that there are\n",
      "strong multicollinearity or other numerical problems.\n"
     ]
    }
   ],
   "source": [
    "indep2.remove(\"2-CH-F(HZ)\")\n",
    "get_stats(df = chiller2, x = indep2, y = '2#Chiller_power' )"
   ]
  },
  {
   "cell_type": "code",
   "execution_count": 14,
   "id": "f3c8a56e",
   "metadata": {},
   "outputs": [
    {
     "name": "stdout",
     "output_type": "stream",
     "text": [
      "                                 OLS Regression Results                                \n",
      "=======================================================================================\n",
      "Dep. Variable:        2#Chiller_power   R-squared (uncentered):                   0.970\n",
      "Model:                            OLS   Adj. R-squared (uncentered):              0.970\n",
      "Method:                 Least Squares   F-statistic:                          3.416e+04\n",
      "Date:                Mon, 18 Jul 2022   Prob (F-statistic):                        0.00\n",
      "Time:                        16:37:58   Log-Likelihood:                         -68114.\n",
      "No. Observations:               14880   AIC:                                  1.363e+05\n",
      "Df Residuals:                   14866   BIC:                                  1.364e+05\n",
      "Df Model:                          14                                                  \n",
      "Covariance Type:            nonrobust                                                  \n",
      "==============================================================================================\n",
      "                                 coef    std err          t      P>|t|      [0.025      0.975]\n",
      "----------------------------------------------------------------------------------------------\n",
      "Temp                          -0.6703      0.063    -10.721      0.000      -0.793      -0.548\n",
      "2#Chiller                    146.1705      0.970    150.704      0.000     144.269     148.072\n",
      "2#Chiller_freeze_in_temp      -3.8115      0.233    -16.342      0.000      -4.269      -3.354\n",
      "2#Chiller_freeze_out_temp      4.4766      0.242     18.498      0.000       4.002       4.951\n",
      "2#Chiller_freeze_Flow         -0.0575      0.002    -27.547      0.000      -0.062      -0.053\n",
      "2#Chiller_cooling_in_temp      2.2581      0.101     22.451      0.000       2.061       2.455\n",
      "2#Chiller_cooling_out_temp     1.3870      0.119     11.639      0.000       1.153       1.621\n",
      "2#Chiller_cooling_Flow         0.0347      0.002     18.518      0.000       0.031       0.038\n",
      "2-CH-UA(V)                    -0.0021   9.67e-05    -21.654      0.000      -0.002      -0.002\n",
      "2-CH-IA(A)                     0.0026      0.000     19.601      0.000       0.002       0.003\n",
      "2#chiller_cooling_capacity     0.0622      0.001     79.026      0.000       0.061       0.064\n",
      "Day                           -0.4520      0.026    -17.147      0.000      -0.504      -0.400\n",
      "Month                         -3.0236      0.172    -17.547      0.000      -3.361      -2.686\n",
      "weekday                       -1.0668      0.098    -10.880      0.000      -1.259      -0.875\n",
      "==============================================================================\n",
      "Omnibus:                     4900.616   Durbin-Watson:                   0.778\n",
      "Prob(Omnibus):                  0.000   Jarque-Bera (JB):           502593.916\n",
      "Skew:                          -0.594   Prob(JB):                         0.00\n",
      "Kurtosis:                      31.447   Cond. No.                     1.12e+05\n",
      "==============================================================================\n",
      "\n",
      "Notes:\n",
      "[1] R² is computed without centering (uncentered) since the model does not contain a constant.\n",
      "[2] Standard Errors assume that the covariance matrix of the errors is correctly specified.\n",
      "[3] The condition number is large, 1.12e+05. This might indicate that there are\n",
      "strong multicollinearity or other numerical problems.\n"
     ]
    }
   ],
   "source": [
    "indep2.remove(\"Hour\")\n",
    "get_stats(df = chiller2, x = indep2, y = '2#Chiller_power' )"
   ]
  },
  {
   "cell_type": "code",
   "execution_count": 20,
   "id": "6e281aae",
   "metadata": {},
   "outputs": [
    {
     "name": "stdout",
     "output_type": "stream",
     "text": [
      "                       feature         VIF\n",
      "3    2#Chiller_freeze_out_temp  322.961349\n",
      "2     2#Chiller_freeze_in_temp  282.234427\n",
      "6   2#Chiller_cooling_out_temp  257.506295\n",
      "5    2#Chiller_cooling_in_temp  174.066718\n",
      "8                   2-CH-UA(V)  124.806825\n",
      "0                         Temp   75.146785\n",
      "12                       Month   44.910878\n",
      "10  2#chiller_cooling_capacity    8.857105\n",
      "4        2#Chiller_freeze_Flow    8.263114\n",
      "1                    2#Chiller    7.630338\n",
      "7       2#Chiller_cooling_Flow    6.757697\n",
      "11                         Day    6.065597\n",
      "13                     weekday    3.374018\n",
      "9                   2-CH-IA(A)    2.053267\n"
     ]
    }
   ],
   "source": [
    "def get_VIF(x:list, df:pd.DataFrame):\n",
    "    vif_data = pd.DataFrame()\n",
    "    vif_data[\"feature\"] = x\n",
    "    vif_data[\"VIF\"] = [variance_inflation_factor(df[x].values, i)\n",
    "                          for i in range(len(x))]\n",
    "    print(vif_data.sort_values(by='VIF',ascending=False))\n",
    "    \n",
    "get_VIF(indep2, chiller2)"
   ]
  },
  {
   "cell_type": "code",
   "execution_count": 21,
   "id": "b383539d",
   "metadata": {},
   "outputs": [
    {
     "name": "stdout",
     "output_type": "stream",
     "text": [
      "                                 OLS Regression Results                                \n",
      "=======================================================================================\n",
      "Dep. Variable:        2#Chiller_power   R-squared (uncentered):                   0.969\n",
      "Model:                            OLS   Adj. R-squared (uncentered):              0.969\n",
      "Method:                 Least Squares   F-statistic:                          3.593e+04\n",
      "Date:                Mon, 18 Jul 2022   Prob (F-statistic):                        0.00\n",
      "Time:                        16:50:49   Log-Likelihood:                         -68283.\n",
      "No. Observations:               14880   AIC:                                  1.366e+05\n",
      "Df Residuals:                   14867   BIC:                                  1.367e+05\n",
      "Df Model:                          13                                                  \n",
      "Covariance Type:            nonrobust                                                  \n",
      "==============================================================================================\n",
      "                                 coef    std err          t      P>|t|      [0.025      0.975]\n",
      "----------------------------------------------------------------------------------------------\n",
      "Temp                          -0.8453      0.063    -13.523      0.000      -0.968      -0.723\n",
      "2#Chiller                    148.3861      0.973    152.429      0.000     146.478     150.294\n",
      "2#Chiller_freeze_in_temp       0.3249      0.067      4.845      0.000       0.193       0.456\n",
      "2#Chiller_freeze_Flow         -0.0622      0.002    -29.684      0.000      -0.066      -0.058\n",
      "2#Chiller_cooling_in_temp      2.3164      0.102     22.782      0.000       2.117       2.516\n",
      "2#Chiller_cooling_out_temp     1.3116      0.120     10.888      0.000       1.075       1.548\n",
      "2#Chiller_cooling_Flow         0.0402      0.002     21.492      0.000       0.037       0.044\n",
      "2-CH-UA(V)                    -0.0016   9.47e-05    -17.392      0.000      -0.002      -0.001\n",
      "2-CH-IA(A)                     0.0027      0.000     20.256      0.000       0.002       0.003\n",
      "2#chiller_cooling_capacity     0.0703      0.001    106.391      0.000       0.069       0.072\n",
      "Day                           -0.4471      0.027    -16.772      0.000      -0.499      -0.395\n",
      "Month                         -3.2517      0.174    -18.706      0.000      -3.592      -2.911\n",
      "weekday                       -1.0637      0.099    -10.725      0.000      -1.258      -0.869\n",
      "==============================================================================\n",
      "Omnibus:                     4635.886   Durbin-Watson:                   0.790\n",
      "Prob(Omnibus):                  0.000   Jarque-Bera (JB):           407666.386\n",
      "Skew:                          -0.542   Prob(JB):                         0.00\n",
      "Kurtosis:                      28.619   Cond. No.                     1.11e+05\n",
      "==============================================================================\n",
      "\n",
      "Notes:\n",
      "[1] R² is computed without centering (uncentered) since the model does not contain a constant.\n",
      "[2] Standard Errors assume that the covariance matrix of the errors is correctly specified.\n",
      "[3] The condition number is large, 1.11e+05. This might indicate that there are\n",
      "strong multicollinearity or other numerical problems.\n",
      "                       feature         VIF\n",
      "5   2#Chiller_cooling_out_temp  257.204647\n",
      "4    2#Chiller_cooling_in_temp  173.895956\n",
      "7                   2-CH-UA(V)  117.018144\n",
      "0                         Temp   73.426544\n",
      "11                       Month   44.680860\n",
      "2     2#Chiller_freeze_in_temp   22.806298\n",
      "3        2#Chiller_freeze_Flow    8.140632\n",
      "1                    2#Chiller    7.513983\n",
      "6       2#Chiller_cooling_Flow    6.586732\n",
      "9   2#chiller_cooling_capacity    6.105043\n",
      "10                         Day    6.064991\n",
      "12                     weekday    3.374008\n",
      "8                   2-CH-IA(A)    2.048786\n"
     ]
    }
   ],
   "source": [
    "indep2.remove(\"2#Chiller_freeze_out_temp\")\n",
    "get_stats(df = chiller2, x = indep2, y = '2#Chiller_power' )\n",
    "get_VIF(indep2, chiller2)"
   ]
  },
  {
   "cell_type": "code",
   "execution_count": 22,
   "id": "17639723",
   "metadata": {},
   "outputs": [
    {
     "name": "stdout",
     "output_type": "stream",
     "text": [
      "                                 OLS Regression Results                                \n",
      "=======================================================================================\n",
      "Dep. Variable:        2#Chiller_power   R-squared (uncentered):                   0.969\n",
      "Model:                            OLS   Adj. R-squared (uncentered):              0.969\n",
      "Method:                 Least Squares   F-statistic:                          3.861e+04\n",
      "Date:                Mon, 18 Jul 2022   Prob (F-statistic):                        0.00\n",
      "Time:                        16:51:19   Log-Likelihood:                         -68342.\n",
      "No. Observations:               14880   AIC:                                  1.367e+05\n",
      "Df Residuals:                   14868   BIC:                                  1.368e+05\n",
      "Df Model:                          12                                                  \n",
      "Covariance Type:            nonrobust                                                  \n",
      "==============================================================================================\n",
      "                                 coef    std err          t      P>|t|      [0.025      0.975]\n",
      "----------------------------------------------------------------------------------------------\n",
      "Temp                          -0.5294      0.056     -9.524      0.000      -0.638      -0.420\n",
      "2#Chiller                    149.1221      0.975    152.953      0.000     147.211     151.033\n",
      "2#Chiller_freeze_in_temp       0.3478      0.067      5.169      0.000       0.216       0.480\n",
      "2#Chiller_freeze_Flow         -0.0638      0.002    -30.396      0.000      -0.068      -0.060\n",
      "2#Chiller_cooling_in_temp      2.7678      0.093     29.694      0.000       2.585       2.950\n",
      "2#Chiller_cooling_Flow         0.0394      0.002     21.022      0.000       0.036       0.043\n",
      "2-CH-UA(V)                    -0.0014   9.16e-05    -14.957      0.000      -0.002      -0.001\n",
      "2-CH-IA(A)                     0.0027      0.000     20.197      0.000       0.002       0.003\n",
      "2#chiller_cooling_capacity     0.0711      0.001    107.773      0.000       0.070       0.072\n",
      "Day                           -0.3309      0.025    -13.492      0.000      -0.379      -0.283\n",
      "Month                         -2.4243      0.157    -15.446      0.000      -2.732      -2.117\n",
      "weekday                       -1.1675      0.099    -11.780      0.000      -1.362      -0.973\n",
      "==============================================================================\n",
      "Omnibus:                     4573.849   Durbin-Watson:                   0.793\n",
      "Prob(Omnibus):                  0.000   Jarque-Bera (JB):           394180.001\n",
      "Skew:                          -0.524   Prob(JB):                         0.00\n",
      "Kurtosis:                      28.193   Cond. No.                     1.11e+05\n",
      "==============================================================================\n",
      "\n",
      "Notes:\n",
      "[1] R² is computed without centering (uncentered) since the model does not contain a constant.\n",
      "[2] Standard Errors assume that the covariance matrix of the errors is correctly specified.\n",
      "[3] The condition number is large, 1.11e+05. This might indicate that there are\n",
      "strong multicollinearity or other numerical problems.\n",
      "                       feature         VIF\n",
      "4    2#Chiller_cooling_in_temp  144.988581\n",
      "6                   2-CH-UA(V)  108.549541\n",
      "0                         Temp   57.609840\n",
      "10                       Month   36.141928\n",
      "2     2#Chiller_freeze_in_temp   22.783869\n",
      "3        2#Chiller_freeze_Flow    8.101160\n",
      "1                    2#Chiller    7.477752\n",
      "5       2#Chiller_cooling_Flow    6.577806\n",
      "8   2#chiller_cooling_capacity    6.033936\n",
      "9                          Day    5.092655\n",
      "11                     weekday    3.342837\n",
      "7                   2-CH-IA(A)    2.048779\n"
     ]
    }
   ],
   "source": [
    "indep2.remove(\"2#Chiller_cooling_out_temp\")\n",
    "get_stats(df = chiller2, x = indep2, y = '2#Chiller_power' )\n",
    "get_VIF(indep2, chiller2)"
   ]
  },
  {
   "cell_type": "code",
   "execution_count": 23,
   "id": "3bd217bb",
   "metadata": {},
   "outputs": [
    {
     "name": "stdout",
     "output_type": "stream",
     "text": [
      "                                 OLS Regression Results                                \n",
      "=======================================================================================\n",
      "Dep. Variable:        2#Chiller_power   R-squared (uncentered):                   0.967\n",
      "Model:                            OLS   Adj. R-squared (uncentered):              0.967\n",
      "Method:                 Least Squares   F-statistic:                          3.969e+04\n",
      "Date:                Mon, 18 Jul 2022   Prob (F-statistic):                        0.00\n",
      "Time:                        16:52:04   Log-Likelihood:                         -68771.\n",
      "No. Observations:               14880   AIC:                                  1.376e+05\n",
      "Df Residuals:                   14869   BIC:                                  1.376e+05\n",
      "Df Model:                          11                                                  \n",
      "Covariance Type:            nonrobust                                                  \n",
      "==============================================================================================\n",
      "                                 coef    std err          t      P>|t|      [0.025      0.975]\n",
      "----------------------------------------------------------------------------------------------\n",
      "Temp                           0.4994      0.045     11.164      0.000       0.412       0.587\n",
      "2#Chiller                    150.5606      1.002    150.234      0.000     148.596     152.525\n",
      "2#Chiller_freeze_in_temp       0.6564      0.068      9.594      0.000       0.522       0.791\n",
      "2#Chiller_freeze_Flow         -0.0586      0.002    -27.233      0.000      -0.063      -0.054\n",
      "2#Chiller_cooling_Flow         0.0353      0.002     18.339      0.000       0.032       0.039\n",
      "2-CH-UA(V)                    -0.0005   8.88e-05     -5.199      0.000      -0.001      -0.000\n",
      "2-CH-IA(A)                     0.0028      0.000     20.084      0.000       0.003       0.003\n",
      "2#chiller_cooling_capacity     0.0750      0.001    112.741      0.000       0.074       0.076\n",
      "Day                           -0.2302      0.025     -9.209      0.000      -0.279      -0.181\n",
      "Month                         -0.4745      0.147     -3.234      0.001      -0.762      -0.187\n",
      "weekday                       -1.1473      0.102    -11.248      0.000      -1.347      -0.947\n",
      "==============================================================================\n",
      "Omnibus:                     4529.951   Durbin-Watson:                   0.763\n",
      "Prob(Omnibus):                  0.000   Jarque-Bera (JB):           348586.247\n",
      "Skew:                          -0.547   Prob(JB):                         0.00\n",
      "Kurtosis:                      26.686   Cond. No.                     1.11e+05\n",
      "==============================================================================\n",
      "\n",
      "Notes:\n",
      "[1] R² is computed without centering (uncentered) since the model does not contain a constant.\n",
      "[2] Standard Errors assume that the covariance matrix of the errors is correctly specified.\n",
      "[3] The condition number is large, 1.11e+05. This might indicate that there are\n",
      "strong multicollinearity or other numerical problems.\n",
      "                       feature        VIF\n",
      "5                   2-CH-UA(V)  96.451216\n",
      "0                         Temp  35.227457\n",
      "9                        Month  29.816592\n",
      "2     2#Chiller_freeze_in_temp  22.240285\n",
      "3        2#Chiller_freeze_Flow   8.045320\n",
      "1                    2#Chiller   7.459290\n",
      "4       2#Chiller_cooling_Flow   6.541687\n",
      "7   2#chiller_cooling_capacity   5.793680\n",
      "8                          Day   4.995291\n",
      "10                     weekday   3.342679\n",
      "6                   2-CH-IA(A)   2.048264\n"
     ]
    }
   ],
   "source": [
    "indep2.remove(\"2#Chiller_cooling_in_temp\")\n",
    "get_stats(df = chiller2, x = indep2, y = '2#Chiller_power' )\n",
    "get_VIF(indep2, chiller2)"
   ]
  },
  {
   "cell_type": "code",
   "execution_count": 24,
   "id": "9c43e523",
   "metadata": {},
   "outputs": [
    {
     "name": "stdout",
     "output_type": "stream",
     "text": [
      "                                 OLS Regression Results                                \n",
      "=======================================================================================\n",
      "Dep. Variable:        2#Chiller_power   R-squared (uncentered):                   0.967\n",
      "Model:                            OLS   Adj. R-squared (uncentered):              0.967\n",
      "Method:                 Least Squares   F-statistic:                          4.358e+04\n",
      "Date:                Mon, 18 Jul 2022   Prob (F-statistic):                        0.00\n",
      "Time:                        16:52:34   Log-Likelihood:                         -68785.\n",
      "No. Observations:               14880   AIC:                                  1.376e+05\n",
      "Df Residuals:                   14870   BIC:                                  1.377e+05\n",
      "Df Model:                          10                                                  \n",
      "Covariance Type:            nonrobust                                                  \n",
      "==============================================================================================\n",
      "                                 coef    std err          t      P>|t|      [0.025      0.975]\n",
      "----------------------------------------------------------------------------------------------\n",
      "Temp                           0.3676      0.037      9.966      0.000       0.295       0.440\n",
      "2#Chiller                    149.7789      0.992    151.032      0.000     147.835     151.723\n",
      "2#Chiller_freeze_in_temp       0.4012      0.048      8.410      0.000       0.308       0.495\n",
      "2#Chiller_freeze_Flow         -0.0581      0.002    -26.982      0.000      -0.062      -0.054\n",
      "2#Chiller_cooling_Flow         0.0360      0.002     18.724      0.000       0.032       0.040\n",
      "2-CH-IA(A)                     0.0028      0.000     19.952      0.000       0.003       0.003\n",
      "2#chiller_cooling_capacity     0.0749      0.001    112.603      0.000       0.074       0.076\n",
      "Day                           -0.2572      0.024    -10.509      0.000      -0.305      -0.209\n",
      "Month                         -0.8257      0.130     -6.334      0.000      -1.081      -0.570\n",
      "weekday                       -1.2362      0.101    -12.283      0.000      -1.433      -1.039\n",
      "==============================================================================\n",
      "Omnibus:                     4604.403   Durbin-Watson:                   0.759\n",
      "Prob(Omnibus):                  0.000   Jarque-Bera (JB):           351815.861\n",
      "Skew:                          -0.578   Prob(JB):                         0.00\n",
      "Kurtosis:                      26.793   Cond. No.                     1.05e+04\n",
      "==============================================================================\n",
      "\n",
      "Notes:\n",
      "[1] R² is computed without centering (uncentered) since the model does not contain a constant.\n",
      "[2] Standard Errors assume that the covariance matrix of the errors is correctly specified.\n",
      "[3] The condition number is large, 1.05e+04. This might indicate that there are\n",
      "strong multicollinearity or other numerical problems.\n",
      "                      feature        VIF\n",
      "0                        Temp  23.903066\n",
      "8                       Month  23.497885\n",
      "2    2#Chiller_freeze_in_temp  10.795042\n",
      "3       2#Chiller_freeze_Flow   8.024948\n",
      "1                   2#Chiller   7.291382\n",
      "4      2#Chiller_cooling_Flow   6.510796\n",
      "6  2#chiller_cooling_capacity   5.793279\n",
      "7                         Day   4.779639\n",
      "9                     weekday   3.248710\n",
      "5                  2-CH-IA(A)   2.047176\n"
     ]
    }
   ],
   "source": [
    "indep2.remove(\"2-CH-UA(V)\")\n",
    "get_stats(df = chiller2, x = indep2, y = '2#Chiller_power' )\n",
    "get_VIF(indep2, chiller2)"
   ]
  },
  {
   "cell_type": "code",
   "execution_count": 25,
   "id": "ae9094ea",
   "metadata": {},
   "outputs": [
    {
     "name": "stdout",
     "output_type": "stream",
     "text": [
      "                                 OLS Regression Results                                \n",
      "=======================================================================================\n",
      "Dep. Variable:        2#Chiller_power   R-squared (uncentered):                   0.967\n",
      "Model:                            OLS   Adj. R-squared (uncentered):              0.967\n",
      "Method:                 Least Squares   F-statistic:                          4.809e+04\n",
      "Date:                Mon, 18 Jul 2022   Prob (F-statistic):                        0.00\n",
      "Time:                        16:55:25   Log-Likelihood:                         -68834.\n",
      "No. Observations:               14880   AIC:                                  1.377e+05\n",
      "Df Residuals:                   14871   BIC:                                  1.378e+05\n",
      "Df Model:                           9                                                  \n",
      "Covariance Type:            nonrobust                                                  \n",
      "==============================================================================================\n",
      "                                 coef    std err          t      P>|t|      [0.025      0.975]\n",
      "----------------------------------------------------------------------------------------------\n",
      "2#Chiller                    149.6775      0.995    150.442      0.000     147.727     151.628\n",
      "2#Chiller_freeze_in_temp       0.4093      0.048      8.553      0.000       0.316       0.503\n",
      "2#Chiller_freeze_Flow         -0.0554      0.002    -25.864      0.000      -0.060      -0.051\n",
      "2#Chiller_cooling_Flow         0.0356      0.002     18.464      0.000       0.032       0.039\n",
      "2-CH-IA(A)                     0.0029      0.000     20.420      0.000       0.003       0.003\n",
      "2#chiller_cooling_capacity     0.0756      0.001    113.845      0.000       0.074       0.077\n",
      "Day                           -0.1660      0.023     -7.288      0.000      -0.211      -0.121\n",
      "Month                          0.0982      0.092      1.068      0.286      -0.082       0.278\n",
      "weekday                       -1.0768      0.100    -10.801      0.000      -1.272      -0.881\n",
      "==============================================================================\n",
      "Omnibus:                     4823.032   Durbin-Watson:                   0.759\n",
      "Prob(Omnibus):                  0.000   Jarque-Bera (JB):           366820.114\n",
      "Skew:                          -0.661   Prob(JB):                         0.00\n",
      "Kurtosis:                      27.288   Cond. No.                     1.05e+04\n",
      "==============================================================================\n",
      "\n",
      "Notes:\n",
      "[1] R² is computed without centering (uncentered) since the model does not contain a constant.\n",
      "[2] Standard Errors assume that the covariance matrix of the errors is correctly specified.\n",
      "[3] The condition number is large, 1.05e+04. This might indicate that there are\n",
      "strong multicollinearity or other numerical problems.\n",
      "                      feature        VIF\n",
      "7                       Month  11.613892\n",
      "1    2#Chiller_freeze_in_temp  10.791918\n",
      "2       2#Chiller_freeze_Flow   7.902582\n",
      "0                   2#Chiller   7.290615\n",
      "3      2#Chiller_cooling_Flow   6.508111\n",
      "5  2#chiller_cooling_capacity   5.732692\n",
      "6                         Day   4.110601\n",
      "8                     weekday   3.166628\n",
      "4                  2-CH-IA(A)   2.041851\n"
     ]
    }
   ],
   "source": [
    "indep2.remove(\"Temp\")\n",
    "get_stats(df = chiller2, x = indep2, y = '2#Chiller_power' )\n",
    "get_VIF(indep2, chiller2)"
   ]
  },
  {
   "cell_type": "code",
   "execution_count": 26,
   "id": "a493feff",
   "metadata": {},
   "outputs": [
    {
     "name": "stdout",
     "output_type": "stream",
     "text": [
      "                                 OLS Regression Results                                \n",
      "=======================================================================================\n",
      "Dep. Variable:        2#Chiller_power   R-squared (uncentered):                   0.967\n",
      "Model:                            OLS   Adj. R-squared (uncentered):              0.967\n",
      "Method:                 Least Squares   F-statistic:                          5.410e+04\n",
      "Date:                Mon, 18 Jul 2022   Prob (F-statistic):                        0.00\n",
      "Time:                        16:55:57   Log-Likelihood:                         -68835.\n",
      "No. Observations:               14880   AIC:                                  1.377e+05\n",
      "Df Residuals:                   14872   BIC:                                  1.377e+05\n",
      "Df Model:                           8                                                  \n",
      "Covariance Type:            nonrobust                                                  \n",
      "==============================================================================================\n",
      "                                 coef    std err          t      P>|t|      [0.025      0.975]\n",
      "----------------------------------------------------------------------------------------------\n",
      "2#Chiller                    149.8671      0.979    153.088      0.000     147.948     151.786\n",
      "2#Chiller_freeze_in_temp       0.4476      0.032     14.105      0.000       0.385       0.510\n",
      "2#Chiller_freeze_Flow         -0.0553      0.002    -25.845      0.000      -0.059      -0.051\n",
      "2#Chiller_cooling_Flow         0.0357      0.002     18.542      0.000       0.032       0.039\n",
      "2-CH-IA(A)                     0.0029      0.000     20.398      0.000       0.003       0.003\n",
      "2#chiller_cooling_capacity     0.0756      0.001    113.853      0.000       0.074       0.077\n",
      "Day                           -0.1654      0.023     -7.264      0.000      -0.210      -0.121\n",
      "weekday                       -1.0487      0.096    -10.905      0.000      -1.237      -0.860\n",
      "==============================================================================\n",
      "Omnibus:                     4847.567   Durbin-Watson:                   0.759\n",
      "Prob(Omnibus):                  0.000   Jarque-Bera (JB):           365644.235\n",
      "Skew:                          -0.673   Prob(JB):                         0.00\n",
      "Kurtosis:                      27.247   Cond. No.                     1.03e+04\n",
      "==============================================================================\n",
      "\n",
      "Notes:\n",
      "[1] R² is computed without centering (uncentered) since the model does not contain a constant.\n",
      "[2] Standard Errors assume that the covariance matrix of the errors is correctly specified.\n",
      "[3] The condition number is large, 1.03e+04. This might indicate that there are\n",
      "strong multicollinearity or other numerical problems.\n",
      "                      feature       VIF\n",
      "2       2#Chiller_freeze_Flow  7.877789\n",
      "0                   2#Chiller  7.058494\n",
      "3      2#Chiller_cooling_Flow  6.491561\n",
      "5  2#chiller_cooling_capacity  5.729117\n",
      "1    2#Chiller_freeze_in_temp  4.744240\n",
      "6                         Day  4.108123\n",
      "7                     weekday  2.946862\n",
      "4                  2-CH-IA(A)  2.040308\n"
     ]
    }
   ],
   "source": [
    "indep2.remove(\"Month\")\n",
    "get_stats(df = chiller2, x = indep2, y = '2#Chiller_power' )\n",
    "get_VIF(indep2, chiller2)"
   ]
  },
  {
   "cell_type": "code",
   "execution_count": 27,
   "id": "74171a39",
   "metadata": {},
   "outputs": [
    {
     "data": {
      "text/plain": [
       "['2#Chiller',\n",
       " '2#Chiller_freeze_in_temp',\n",
       " '2#Chiller_freeze_Flow',\n",
       " '2#Chiller_cooling_Flow',\n",
       " '2-CH-IA(A)',\n",
       " '2#chiller_cooling_capacity',\n",
       " 'Day',\n",
       " 'weekday']"
      ]
     },
     "execution_count": 27,
     "metadata": {},
     "output_type": "execute_result"
    }
   ],
   "source": [
    "# a point that can stop\n",
    "indep2"
   ]
  },
  {
   "cell_type": "code",
   "execution_count": 28,
   "id": "6cf4eda3",
   "metadata": {},
   "outputs": [],
   "source": [
    "model2_stop = indep2.copy()"
   ]
  },
  {
   "cell_type": "code",
   "execution_count": 29,
   "id": "f4fb75ac",
   "metadata": {},
   "outputs": [
    {
     "name": "stdout",
     "output_type": "stream",
     "text": [
      "                                 OLS Regression Results                                \n",
      "=======================================================================================\n",
      "Dep. Variable:        2#Chiller_power   R-squared (uncentered):                   0.965\n",
      "Model:                            OLS   Adj. R-squared (uncentered):              0.965\n",
      "Method:                 Least Squares   F-statistic:                          5.909e+04\n",
      "Date:                Mon, 18 Jul 2022   Prob (F-statistic):                        0.00\n",
      "Time:                        17:02:34   Log-Likelihood:                         -69161.\n",
      "No. Observations:               14880   AIC:                                  1.383e+05\n",
      "Df Residuals:                   14873   BIC:                                  1.384e+05\n",
      "Df Model:                           7                                                  \n",
      "Covariance Type:            nonrobust                                                  \n",
      "==============================================================================================\n",
      "                                 coef    std err          t      P>|t|      [0.025      0.975]\n",
      "----------------------------------------------------------------------------------------------\n",
      "2#Chiller                    148.0536      0.998    148.336      0.000     146.097     150.010\n",
      "2#Chiller_freeze_in_temp       0.3078      0.032      9.630      0.000       0.245       0.370\n",
      "2#Chiller_cooling_Flow         0.0006      0.001      0.415      0.678      -0.002       0.003\n",
      "2-CH-IA(A)                     0.0030      0.000     20.957      0.000       0.003       0.003\n",
      "2#chiller_cooling_capacity     0.0703      0.001    108.925      0.000       0.069       0.072\n",
      "Day                           -0.0999      0.023     -4.320      0.000      -0.145      -0.055\n",
      "weekday                       -1.1447      0.098    -11.654      0.000      -1.337      -0.952\n",
      "==============================================================================\n",
      "Omnibus:                     4335.381   Durbin-Watson:                   0.725\n",
      "Prob(Omnibus):                  0.000   Jarque-Bera (JB):           277016.517\n",
      "Skew:                          -0.535   Prob(JB):                         0.00\n",
      "Kurtosis:                      24.111   Cond. No.                     1.03e+04\n",
      "==============================================================================\n",
      "\n",
      "Notes:\n",
      "[1] R² is computed without centering (uncentered) since the model does not contain a constant.\n",
      "[2] Standard Errors assume that the covariance matrix of the errors is correctly specified.\n",
      "[3] The condition number is large, 1.03e+04. This might indicate that there are\n",
      "strong multicollinearity or other numerical problems.\n",
      "                      feature       VIF\n",
      "0                   2#Chiller  7.022234\n",
      "4  2#chiller_cooling_capacity  5.173969\n",
      "1    2#Chiller_freeze_in_temp  4.606411\n",
      "5                         Day  4.057258\n",
      "2      2#Chiller_cooling_Flow  3.257764\n",
      "6                     weekday  2.942469\n",
      "3                  2-CH-IA(A)  2.037207\n"
     ]
    }
   ],
   "source": [
    "indep2.remove(\"2#Chiller_freeze_Flow\")\n",
    "get_stats(df = chiller2, x = indep2, y = '2#Chiller_power' )\n",
    "get_VIF(indep2, chiller2)"
   ]
  },
  {
   "cell_type": "code",
   "execution_count": 30,
   "id": "abc3b7b5",
   "metadata": {},
   "outputs": [
    {
     "name": "stdout",
     "output_type": "stream",
     "text": [
      "                                 OLS Regression Results                                \n",
      "=======================================================================================\n",
      "Dep. Variable:        2#Chiller_power   R-squared (uncentered):                   0.965\n",
      "Model:                            OLS   Adj. R-squared (uncentered):              0.965\n",
      "Method:                 Least Squares   F-statistic:                          6.894e+04\n",
      "Date:                Mon, 18 Jul 2022   Prob (F-statistic):                        0.00\n",
      "Time:                        17:03:36   Log-Likelihood:                         -69162.\n",
      "No. Observations:               14880   AIC:                                  1.383e+05\n",
      "Df Residuals:                   14874   BIC:                                  1.384e+05\n",
      "Df Model:                           6                                                  \n",
      "Covariance Type:            nonrobust                                                  \n",
      "==============================================================================================\n",
      "                                 coef    std err          t      P>|t|      [0.025      0.975]\n",
      "----------------------------------------------------------------------------------------------\n",
      "2#Chiller                    148.2311      0.902    164.402      0.000     146.464     149.998\n",
      "2#Chiller_freeze_in_temp       0.3078      0.032      9.630      0.000       0.245       0.370\n",
      "2-CH-IA(A)                     0.0030      0.000     20.954      0.000       0.003       0.003\n",
      "2#chiller_cooling_capacity     0.0703      0.001    109.081      0.000       0.069       0.072\n",
      "Day                           -0.0979      0.023     -4.329      0.000      -0.142      -0.054\n",
      "weekday                       -1.1436      0.098    -11.647      0.000      -1.336      -0.951\n",
      "==============================================================================\n",
      "Omnibus:                     4336.085   Durbin-Watson:                   0.726\n",
      "Prob(Omnibus):                  0.000   Jarque-Bera (JB):           277763.143\n",
      "Skew:                          -0.535   Prob(JB):                         0.00\n",
      "Kurtosis:                      24.139   Cond. No.                     9.25e+03\n",
      "==============================================================================\n",
      "\n",
      "Notes:\n",
      "[1] R² is computed without centering (uncentered) since the model does not contain a constant.\n",
      "[2] Standard Errors assume that the covariance matrix of the errors is correctly specified.\n",
      "[3] The condition number is large, 9.25e+03. This might indicate that there are\n",
      "strong multicollinearity or other numerical problems.\n",
      "                      feature       VIF\n",
      "0                   2#Chiller  5.730848\n",
      "3  2#chiller_cooling_capacity  5.161357\n",
      "1    2#Chiller_freeze_in_temp  4.606405\n",
      "4                         Day  3.877548\n",
      "5                     weekday  2.940461\n",
      "2                  2-CH-IA(A)  2.036779\n"
     ]
    }
   ],
   "source": [
    "indep2.remove(\"2#Chiller_cooling_Flow\")\n",
    "get_stats(df = chiller2, x = indep2, y = '2#Chiller_power' )\n",
    "get_VIF(indep2, chiller2)"
   ]
  },
  {
   "cell_type": "code",
   "execution_count": 31,
   "id": "cad9c66a",
   "metadata": {},
   "outputs": [
    {
     "name": "stdout",
     "output_type": "stream",
     "text": [
      "                                 OLS Regression Results                                \n",
      "=======================================================================================\n",
      "Dep. Variable:        2#Chiller_power   R-squared (uncentered):                   0.938\n",
      "Model:                            OLS   Adj. R-squared (uncentered):              0.938\n",
      "Method:                 Least Squares   F-statistic:                          4.464e+04\n",
      "Date:                Mon, 18 Jul 2022   Prob (F-statistic):                        0.00\n",
      "Time:                        17:05:22   Log-Likelihood:                         -73535.\n",
      "No. Observations:               14880   AIC:                                  1.471e+05\n",
      "Df Residuals:                   14875   BIC:                                  1.471e+05\n",
      "Df Model:                           5                                                  \n",
      "Covariance Type:            nonrobust                                                  \n",
      "============================================================================================\n",
      "                               coef    std err          t      P>|t|      [0.025      0.975]\n",
      "--------------------------------------------------------------------------------------------\n",
      "2#Chiller                  225.1067      0.754    298.363      0.000     223.628     226.586\n",
      "2#Chiller_freeze_in_temp     0.3318      0.043      7.739      0.000       0.248       0.416\n",
      "2-CH-IA(A)                   0.0056      0.000     29.341      0.000       0.005       0.006\n",
      "Day                         -0.0727      0.030     -2.396      0.017      -0.132      -0.013\n",
      "weekday                     -1.4270      0.132    -10.836      0.000      -1.685      -1.169\n",
      "==============================================================================\n",
      "Omnibus:                     5243.999   Durbin-Watson:                   0.831\n",
      "Prob(Omnibus):                  0.000   Jarque-Bera (JB):            52261.018\n",
      "Skew:                          -1.405   Prob(JB):                         0.00\n",
      "Kurtosis:                      11.741   Cond. No.                     5.60e+03\n",
      "==============================================================================\n",
      "\n",
      "Notes:\n",
      "[1] R² is computed without centering (uncentered) since the model does not contain a constant.\n",
      "[2] Standard Errors assume that the covariance matrix of the errors is correctly specified.\n",
      "[3] The condition number is large, 5.6e+03. This might indicate that there are\n",
      "strong multicollinearity or other numerical problems.\n",
      "                    feature       VIF\n",
      "1  2#Chiller_freeze_in_temp  4.606186\n",
      "3                       Day  3.877142\n",
      "4                   weekday  2.938404\n",
      "0                 2#Chiller  2.229506\n",
      "2                2-CH-IA(A)  1.982069\n"
     ]
    }
   ],
   "source": [
    "indep2.remove(\"2#chiller_cooling_capacity\")\n",
    "get_stats(df = chiller2, x = indep2, y = '2#Chiller_power' )\n",
    "get_VIF(indep2, chiller2)"
   ]
  },
  {
   "cell_type": "code",
   "execution_count": 32,
   "id": "83c865ee",
   "metadata": {},
   "outputs": [
    {
     "name": "stdout",
     "output_type": "stream",
     "text": [
      "                                 OLS Regression Results                                \n",
      "=======================================================================================\n",
      "Dep. Variable:        2#Chiller_power   R-squared (uncentered):                   0.937\n",
      "Model:                            OLS   Adj. R-squared (uncentered):              0.937\n",
      "Method:                 Least Squares   F-statistic:                          5.557e+04\n",
      "Date:                Mon, 18 Jul 2022   Prob (F-statistic):                        0.00\n",
      "Time:                        17:11:39   Log-Likelihood:                         -73564.\n",
      "No. Observations:               14880   AIC:                                  1.471e+05\n",
      "Df Residuals:                   14876   BIC:                                  1.472e+05\n",
      "Df Model:                           4                                                  \n",
      "Covariance Type:            nonrobust                                                  \n",
      "==============================================================================\n",
      "                 coef    std err          t      P>|t|      [0.025      0.975]\n",
      "------------------------------------------------------------------------------\n",
      "2#Chiller    224.8371      0.755    297.735      0.000     223.357     226.317\n",
      "2-CH-IA(A)     0.0056      0.000     29.276      0.000       0.005       0.006\n",
      "Day            0.0709      0.024      2.951      0.003       0.024       0.118\n",
      "weekday       -0.9124      0.114     -8.011      0.000      -1.136      -0.689\n",
      "==============================================================================\n",
      "Omnibus:                     5399.068   Durbin-Watson:                   0.824\n",
      "Prob(Omnibus):                  0.000   Jarque-Bera (JB):            53918.911\n",
      "Skew:                          -1.456   Prob(JB):                         0.00\n",
      "Kurtosis:                      11.860   Cond. No.                     5.60e+03\n",
      "==============================================================================\n",
      "\n",
      "Notes:\n",
      "[1] R² is computed without centering (uncentered) since the model does not contain a constant.\n",
      "[2] Standard Errors assume that the covariance matrix of the errors is correctly specified.\n",
      "[3] The condition number is large, 5.6e+03. This might indicate that there are\n",
      "strong multicollinearity or other numerical problems.\n",
      "      feature       VIF\n",
      "2         Day  2.425971\n",
      "0   2#Chiller  2.224754\n",
      "3     weekday  2.189250\n",
      "1  2-CH-IA(A)  1.982068\n"
     ]
    }
   ],
   "source": [
    "indep2.remove(\"2#Chiller_freeze_in_temp\")\n",
    "get_stats(df = chiller2, x = indep2, y = '2#Chiller_power' )\n",
    "get_VIF(indep2, chiller2)"
   ]
  },
  {
   "cell_type": "code",
   "execution_count": null,
   "id": "aa98b8a1",
   "metadata": {},
   "outputs": [],
   "source": []
  },
  {
   "cell_type": "code",
   "execution_count": 33,
   "id": "a53df016",
   "metadata": {},
   "outputs": [],
   "source": [
    "def contributions(df:pd.DataFrame, x_list:list, y:str ):\n",
    "    x = df[x_list]\n",
    "    y = df[y]\n",
    "    results = sm.OLS(y, x).fit()\n",
    "    results.params\n",
    "    \n",
    "    # reg is a dataframe that contains the multiplied data of coef * raw     \n",
    "    reg = pd.DataFrame()\n",
    "    \n",
    "    # use each var's params to multiply itself    \n",
    "    for i in range(len(x_list)):\n",
    "        reg[x_list[i]+'_pred'] = df[x_list[i]] * results.params[i]\n",
    "        \n",
    "    # this line is to sum up all columns to a total number as prediction (horizontally)\n",
    "    reg['Pred'] = reg.sum(axis=1)\n",
    "    \n",
    "    # this line to to sum up all row to calculate a column-sum (vertically)  \n",
    "    reg.sum(axis=0)\n",
    "    \n",
    "    # contri is a pd series that aims to record the contribution data that calcated from reg\n",
    "    # there's a future warning here when not explict 'float64'     \n",
    "    contri = pd.Series(dtype='float64')\n",
    "    \n",
    "    contri = abs(reg.sum(axis=0)/reg.sum(axis=0)[-1]).sort_values(ascending=False)\n",
    "    \n",
    "    # the second is the largest individual. this is to calc the relative importance\n",
    "    contri[1:]/contri[1]\n",
    "    \n",
    "    # accu is a dataframe that combines reg and y, in order to test the fit and accuracy     \n",
    "    accu = pd.concat([reg.copy(), y ], axis=1)\n",
    "    \n",
    "    return contri[1:]/contri[1], accu"
   ]
  },
  {
   "cell_type": "code",
   "execution_count": 34,
   "id": "2a39d1dd",
   "metadata": {},
   "outputs": [
    {
     "data": {
      "text/plain": [
       "2#Chiller_pred     1.000000\n",
       "2-CH-IA(A)_pred    0.071416\n",
       "weekday_pred       0.040446\n",
       "Day_pred           0.016438\n",
       "dtype: float64"
      ]
     },
     "execution_count": 34,
     "metadata": {},
     "output_type": "execute_result"
    }
   ],
   "source": [
    "test2 = contributions(df = chiller2, x_list = indep2, y = '2#Chiller_power')\n",
    "test2[0]"
   ]
  },
  {
   "cell_type": "code",
   "execution_count": 35,
   "id": "5d0e28a1",
   "metadata": {
    "collapsed": true
   },
   "outputs": [
    {
     "data": {
      "text/html": [
       "<div>\n",
       "<style scoped>\n",
       "    .dataframe tbody tr th:only-of-type {\n",
       "        vertical-align: middle;\n",
       "    }\n",
       "\n",
       "    .dataframe tbody tr th {\n",
       "        vertical-align: top;\n",
       "    }\n",
       "\n",
       "    .dataframe thead th {\n",
       "        text-align: right;\n",
       "    }\n",
       "</style>\n",
       "<table border=\"1\" class=\"dataframe\">\n",
       "  <thead>\n",
       "    <tr style=\"text-align: right;\">\n",
       "      <th></th>\n",
       "      <th>2#Chiller_pred</th>\n",
       "      <th>2-CH-IA(A)_pred</th>\n",
       "      <th>Day_pred</th>\n",
       "      <th>weekday_pred</th>\n",
       "      <th>Pred</th>\n",
       "      <th>2#Chiller_power</th>\n",
       "    </tr>\n",
       "    <tr>\n",
       "      <th>time</th>\n",
       "      <th></th>\n",
       "      <th></th>\n",
       "      <th></th>\n",
       "      <th></th>\n",
       "      <th></th>\n",
       "      <th></th>\n",
       "    </tr>\n",
       "  </thead>\n",
       "  <tbody>\n",
       "    <tr>\n",
       "      <th>2019-05-11 00:00:13</th>\n",
       "      <td>0.0</td>\n",
       "      <td>0.0</td>\n",
       "      <td>0.780354</td>\n",
       "      <td>-4.561898</td>\n",
       "      <td>-3.781545</td>\n",
       "      <td>0.0</td>\n",
       "    </tr>\n",
       "    <tr>\n",
       "      <th>2019-05-11 00:15:13</th>\n",
       "      <td>0.0</td>\n",
       "      <td>0.0</td>\n",
       "      <td>0.780354</td>\n",
       "      <td>-4.561898</td>\n",
       "      <td>-3.781545</td>\n",
       "      <td>0.0</td>\n",
       "    </tr>\n",
       "    <tr>\n",
       "      <th>2019-05-11 00:30:13</th>\n",
       "      <td>0.0</td>\n",
       "      <td>0.0</td>\n",
       "      <td>0.780354</td>\n",
       "      <td>-4.561898</td>\n",
       "      <td>-3.781545</td>\n",
       "      <td>0.0</td>\n",
       "    </tr>\n",
       "    <tr>\n",
       "      <th>2019-05-11 00:45:13</th>\n",
       "      <td>0.0</td>\n",
       "      <td>0.0</td>\n",
       "      <td>0.780354</td>\n",
       "      <td>-4.561898</td>\n",
       "      <td>-3.781545</td>\n",
       "      <td>0.0</td>\n",
       "    </tr>\n",
       "    <tr>\n",
       "      <th>2019-05-11 01:00:13</th>\n",
       "      <td>0.0</td>\n",
       "      <td>0.0</td>\n",
       "      <td>0.780354</td>\n",
       "      <td>-4.561898</td>\n",
       "      <td>-3.781545</td>\n",
       "      <td>0.0</td>\n",
       "    </tr>\n",
       "    <tr>\n",
       "      <th>...</th>\n",
       "      <td>...</td>\n",
       "      <td>...</td>\n",
       "      <td>...</td>\n",
       "      <td>...</td>\n",
       "      <td>...</td>\n",
       "      <td>...</td>\n",
       "    </tr>\n",
       "    <tr>\n",
       "      <th>2019-10-12 22:45:13</th>\n",
       "      <td>0.0</td>\n",
       "      <td>0.0</td>\n",
       "      <td>0.851295</td>\n",
       "      <td>-4.561898</td>\n",
       "      <td>-3.710603</td>\n",
       "      <td>0.0</td>\n",
       "    </tr>\n",
       "    <tr>\n",
       "      <th>2019-10-12 23:00:13</th>\n",
       "      <td>0.0</td>\n",
       "      <td>0.0</td>\n",
       "      <td>0.851295</td>\n",
       "      <td>-4.561898</td>\n",
       "      <td>-3.710603</td>\n",
       "      <td>0.0</td>\n",
       "    </tr>\n",
       "    <tr>\n",
       "      <th>2019-10-12 23:15:13</th>\n",
       "      <td>0.0</td>\n",
       "      <td>0.0</td>\n",
       "      <td>0.851295</td>\n",
       "      <td>-4.561898</td>\n",
       "      <td>-3.710603</td>\n",
       "      <td>0.0</td>\n",
       "    </tr>\n",
       "    <tr>\n",
       "      <th>2019-10-12 23:30:13</th>\n",
       "      <td>0.0</td>\n",
       "      <td>0.0</td>\n",
       "      <td>0.851295</td>\n",
       "      <td>-4.561898</td>\n",
       "      <td>-3.710603</td>\n",
       "      <td>0.0</td>\n",
       "    </tr>\n",
       "    <tr>\n",
       "      <th>2019-10-12 23:45:13</th>\n",
       "      <td>0.0</td>\n",
       "      <td>0.0</td>\n",
       "      <td>0.851295</td>\n",
       "      <td>-4.561898</td>\n",
       "      <td>-3.710603</td>\n",
       "      <td>0.0</td>\n",
       "    </tr>\n",
       "  </tbody>\n",
       "</table>\n",
       "<p>14880 rows × 6 columns</p>\n",
       "</div>"
      ],
      "text/plain": [
       "                     2#Chiller_pred  2-CH-IA(A)_pred  Day_pred  weekday_pred  \\\n",
       "time                                                                           \n",
       "2019-05-11 00:00:13             0.0              0.0  0.780354     -4.561898   \n",
       "2019-05-11 00:15:13             0.0              0.0  0.780354     -4.561898   \n",
       "2019-05-11 00:30:13             0.0              0.0  0.780354     -4.561898   \n",
       "2019-05-11 00:45:13             0.0              0.0  0.780354     -4.561898   \n",
       "2019-05-11 01:00:13             0.0              0.0  0.780354     -4.561898   \n",
       "...                             ...              ...       ...           ...   \n",
       "2019-10-12 22:45:13             0.0              0.0  0.851295     -4.561898   \n",
       "2019-10-12 23:00:13             0.0              0.0  0.851295     -4.561898   \n",
       "2019-10-12 23:15:13             0.0              0.0  0.851295     -4.561898   \n",
       "2019-10-12 23:30:13             0.0              0.0  0.851295     -4.561898   \n",
       "2019-10-12 23:45:13             0.0              0.0  0.851295     -4.561898   \n",
       "\n",
       "                         Pred  2#Chiller_power  \n",
       "time                                            \n",
       "2019-05-11 00:00:13 -3.781545              0.0  \n",
       "2019-05-11 00:15:13 -3.781545              0.0  \n",
       "2019-05-11 00:30:13 -3.781545              0.0  \n",
       "2019-05-11 00:45:13 -3.781545              0.0  \n",
       "2019-05-11 01:00:13 -3.781545              0.0  \n",
       "...                       ...              ...  \n",
       "2019-10-12 22:45:13 -3.710603              0.0  \n",
       "2019-10-12 23:00:13 -3.710603              0.0  \n",
       "2019-10-12 23:15:13 -3.710603              0.0  \n",
       "2019-10-12 23:30:13 -3.710603              0.0  \n",
       "2019-10-12 23:45:13 -3.710603              0.0  \n",
       "\n",
       "[14880 rows x 6 columns]"
      ]
     },
     "execution_count": 35,
     "metadata": {},
     "output_type": "execute_result"
    }
   ],
   "source": [
    "test2[1]"
   ]
  },
  {
   "cell_type": "code",
   "execution_count": 36,
   "id": "e68e47fc",
   "metadata": {},
   "outputs": [
    {
     "data": {
      "text/plain": [
       "2#Chiller_pred                     1.000000\n",
       "2#chiller_cooling_capacity_pred    0.607700\n",
       "2#Chiller_freeze_Flow_pred         0.204119\n",
       "2#Chiller_freeze_in_temp_pred      0.132116\n",
       "2#Chiller_cooling_Flow_pred        0.127553\n",
       "weekday_pred                       0.069748\n",
       "Day_pred                           0.057487\n",
       "2-CH-IA(A)_pred                    0.055123\n",
       "dtype: float64"
      ]
     },
     "execution_count": 36,
     "metadata": {},
     "output_type": "execute_result"
    }
   ],
   "source": [
    "test2a = contributions(df = chiller2, x_list = model2_stop, y = '2#Chiller_power')\n",
    "test2a[0]"
   ]
  },
  {
   "cell_type": "code",
   "execution_count": 37,
   "id": "ea9427ba",
   "metadata": {},
   "outputs": [
    {
     "data": {
      "image/png": "[encoded data removed]",
      "text/plain": [
       "<Figure size 432x288 with 1 Axes>"
      ]
     },
     "metadata": {
      "needs_background": "light"
     },
     "output_type": "display_data"
    }
   ],
   "source": [
    "ax = plt.barh(['switch','cooling capacity','freeze flow','feeze in temp','cooling Flow','weekday','day','current'], \n",
    "              test2a[0].values)  \n",
    "plt.gca().invert_yaxis()"
   ]
  },
  {
   "cell_type": "code",
   "execution_count": null,
   "id": "51169ff7",
   "metadata": {},
   "outputs": [],
   "source": []
  },
  {
   "cell_type": "code",
   "execution_count": 38,
   "id": "c6179b60",
   "metadata": {},
   "outputs": [],
   "source": [
    "chiller2_decomp_day = test2a[1].resample('D').sum()\n",
    "chiller2_decomp_week = test2a[1].resample('W').sum()"
   ]
  },
  {
   "cell_type": "code",
   "execution_count": null,
   "id": "31d43a31",
   "metadata": {},
   "outputs": [],
   "source": []
  },
  {
   "cell_type": "code",
   "execution_count": 40,
   "id": "acac14f3",
   "metadata": {},
   "outputs": [
    {
     "data": {
      "image/png": "[encoded data removed]",
      "text/plain": [
       "<Figure size 432x288 with 1 Axes>"
      ]
     },
     "metadata": {
      "needs_background": "light"
     },
     "output_type": "display_data"
    }
   ],
   "source": [
    "chiller2_decomp_day['Pred'].plot(color='r', marker='*')\n",
    "chiller2_decomp_day['2#Chiller_power'].plot();"
   ]
  },
  {
   "cell_type": "code",
   "execution_count": null,
   "id": "50858470",
   "metadata": {},
   "outputs": [],
   "source": []
  },
  {
   "cell_type": "code",
   "execution_count": 41,
   "id": "cc4fa467",
   "metadata": {},
   "outputs": [
    {
     "data": {
      "image/png": "[encoded data removed]",
      "text/plain": [
       "<Figure size 432x288 with 1 Axes>"
      ]
     },
     "metadata": {
      "needs_background": "light"
     },
     "output_type": "display_data"
    }
   ],
   "source": [
    "chiller2_decomp_week['Pred'].plot(color='r', marker='*')\n",
    "chiller2_decomp_week['2#Chiller_power'].plot();"
   ]
  },
  {
   "cell_type": "markdown",
   "id": "77d9fb5b",
   "metadata": {},
   "source": [
    "* limited chiller test"
   ]
  },
  {
   "cell_type": "code",
   "execution_count": 42,
   "id": "7e3df64e",
   "metadata": {},
   "outputs": [],
   "source": [
    "chiller2L_decomp_day = test2[1].resample('D').sum()\n",
    "chiller2L_decomp_week = test2[1].resample('W').sum()"
   ]
  },
  {
   "cell_type": "code",
   "execution_count": 43,
   "id": "2ff67ec0",
   "metadata": {},
   "outputs": [
    {
     "data": {
      "image/png": "[encoded data removed]",
      "text/plain": [
       "<Figure size 432x288 with 1 Axes>"
      ]
     },
     "metadata": {
      "needs_background": "light"
     },
     "output_type": "display_data"
    }
   ],
   "source": [
    "chiller2L_decomp_day['Pred'].plot(color='r', marker='*')\n",
    "chiller2L_decomp_day['2#Chiller_power'].plot();"
   ]
  },
  {
   "cell_type": "code",
   "execution_count": 44,
   "id": "0b93835f",
   "metadata": {},
   "outputs": [
    {
     "data": {
      "image/png": "[encoded data removed]",
      "text/plain": [
       "<Figure size 432x288 with 1 Axes>"
      ]
     },
     "metadata": {
      "needs_background": "light"
     },
     "output_type": "display_data"
    }
   ],
   "source": [
    "chiller2L_decomp_week['Pred'].plot(color='r', marker='*')\n",
    "chiller2L_decomp_week['2#Chiller_power'].plot();"
   ]
  },
  {
   "cell_type": "code",
   "execution_count": null,
   "id": "3b8447a1",
   "metadata": {},
   "outputs": [],
   "source": []
  },
  {
   "cell_type": "markdown",
   "id": "5c0b772d",
   "metadata": {},
   "source": [
    "## model3"
   ]
  },
  {
   "cell_type": "code",
   "execution_count": 45,
   "id": "6189b17d",
   "metadata": {},
   "outputs": [
    {
     "name": "stdout",
     "output_type": "stream",
     "text": [
      "                                 OLS Regression Results                                \n",
      "=======================================================================================\n",
      "Dep. Variable:        3#Chiller_power   R-squared (uncentered):                   0.882\n",
      "Model:                            OLS   Adj. R-squared (uncentered):              0.882\n",
      "Method:                 Least Squares   F-statistic:                              6543.\n",
      "Date:                Mon, 18 Jul 2022   Prob (F-statistic):                        0.00\n",
      "Time:                        17:48:30   Log-Likelihood:                         -65936.\n",
      "No. Observations:               14880   AIC:                                  1.319e+05\n",
      "Df Residuals:                   14863   BIC:                                  1.320e+05\n",
      "Df Model:                          17                                                  \n",
      "Covariance Type:            nonrobust                                                  \n",
      "==============================================================================================\n",
      "                                 coef    std err          t      P>|t|      [0.025      0.975]\n",
      "----------------------------------------------------------------------------------------------\n",
      "Temp                           0.1084      0.054      2.006      0.045       0.002       0.214\n",
      "humid                      -7.319e-05      0.000     -0.276      0.783      -0.001       0.000\n",
      "3#Chiller                     88.5802      1.010     87.693      0.000      86.600      90.560\n",
      "3#Chiller_freeze_in_temp       0.1952      0.110      1.782      0.075      -0.020       0.410\n",
      "3#Chiller_freeze_out_temp      0.3908      0.104      3.767      0.000       0.187       0.594\n",
      "3#Chiller_freeze_Flow         -0.0141      0.002     -5.787      0.000      -0.019      -0.009\n",
      "3#Chiller_cooling_in_temp     -0.0776      0.200     -0.389      0.697      -0.469       0.314\n",
      "3#Chiller_cooling_out_temp     0.9779      0.210      4.660      0.000       0.567       1.389\n",
      "3#Chiller_cooling_Flow        -0.0072      0.002     -2.955      0.003      -0.012      -0.002\n",
      "3-CH-UA(V)                    -0.0009      0.000     -8.043      0.000      -0.001      -0.001\n",
      "3-CH-IA(A)                     0.0016      0.000     13.491      0.000       0.001       0.002\n",
      "3-CH-F(HZ)                    -0.0008      0.000     -2.618      0.009      -0.001      -0.000\n",
      "3#chiller_cooling_capacity     0.0591      0.001     69.862      0.000       0.057       0.061\n",
      "Hour                           0.0088      0.025      0.357      0.721      -0.039       0.057\n",
      "Day                           -0.2070      0.022     -9.258      0.000      -0.251      -0.163\n",
      "Month                         -0.8649      0.154     -5.622      0.000      -1.167      -0.563\n",
      "weekday                       -0.0181      0.084     -0.214      0.831      -0.184       0.147\n",
      "==============================================================================\n",
      "Omnibus:                     4510.919   Durbin-Watson:                   0.445\n",
      "Prob(Omnibus):                  0.000   Jarque-Bera (JB):           192106.354\n",
      "Skew:                          -0.734   Prob(JB):                         0.00\n",
      "Kurtosis:                      20.541   Cond. No.                     1.40e+05\n",
      "==============================================================================\n",
      "\n",
      "Notes:\n",
      "[1] R² is computed without centering (uncentered) since the model does not contain a constant.\n",
      "[2] Standard Errors assume that the covariance matrix of the errors is correctly specified.\n",
      "[3] The condition number is large, 1.4e+05. This might indicate that there are\n",
      "strong multicollinearity or other numerical problems.\n"
     ]
    }
   ],
   "source": [
    "get_stats(df = chiller3, x = indep3, y = '3#Chiller_power' )"
   ]
  },
  {
   "cell_type": "code",
   "execution_count": 46,
   "id": "e718e5f5",
   "metadata": {},
   "outputs": [
    {
     "name": "stdout",
     "output_type": "stream",
     "text": [
      "                                 OLS Regression Results                                \n",
      "=======================================================================================\n",
      "Dep. Variable:        3#Chiller_power   R-squared (uncentered):                   0.882\n",
      "Model:                            OLS   Adj. R-squared (uncentered):              0.882\n",
      "Method:                 Least Squares   F-statistic:                              6952.\n",
      "Date:                Mon, 18 Jul 2022   Prob (F-statistic):                        0.00\n",
      "Time:                        17:50:58   Log-Likelihood:                         -65936.\n",
      "No. Observations:               14880   AIC:                                  1.319e+05\n",
      "Df Residuals:                   14864   BIC:                                  1.320e+05\n",
      "Df Model:                          16                                                  \n",
      "Covariance Type:            nonrobust                                                  \n",
      "==============================================================================================\n",
      "                                 coef    std err          t      P>|t|      [0.025      0.975]\n",
      "----------------------------------------------------------------------------------------------\n",
      "Temp                           0.1084      0.054      2.007      0.045       0.003       0.214\n",
      "3#Chiller                     88.5799      1.010     87.696      0.000      86.600      90.560\n",
      "3#Chiller_freeze_in_temp       0.1954      0.110      1.784      0.075      -0.019       0.410\n",
      "3#Chiller_freeze_out_temp      0.3905      0.104      3.764      0.000       0.187       0.594\n",
      "3#Chiller_freeze_Flow         -0.0141      0.002     -5.785      0.000      -0.019      -0.009\n",
      "3#Chiller_cooling_in_temp     -0.0777      0.200     -0.389      0.697      -0.469       0.313\n",
      "3#Chiller_cooling_out_temp     0.9779      0.210      4.660      0.000       0.567       1.389\n",
      "3#Chiller_cooling_Flow        -0.0072      0.002     -2.955      0.003      -0.012      -0.002\n",
      "3-CH-UA(V)                    -0.0009      0.000     -8.048      0.000      -0.001      -0.001\n",
      "3-CH-IA(A)                     0.0016      0.000     13.492      0.000       0.001       0.002\n",
      "3-CH-F(HZ)                    -0.0008      0.000     -2.618      0.009      -0.001      -0.000\n",
      "3#chiller_cooling_capacity     0.0591      0.001     69.864      0.000       0.057       0.061\n",
      "Hour                           0.0088      0.025      0.358      0.720      -0.039       0.057\n",
      "Day                           -0.2069      0.022     -9.255      0.000      -0.251      -0.163\n",
      "Month                         -0.8643      0.154     -5.618      0.000      -1.166      -0.563\n",
      "weekday                       -0.0179      0.084     -0.212      0.832      -0.183       0.148\n",
      "==============================================================================\n",
      "Omnibus:                     4510.825   Durbin-Watson:                   0.445\n",
      "Prob(Omnibus):                  0.000   Jarque-Bera (JB):           192104.109\n",
      "Skew:                          -0.734   Prob(JB):                         0.00\n",
      "Kurtosis:                      20.541   Cond. No.                     1.40e+05\n",
      "==============================================================================\n",
      "\n",
      "Notes:\n",
      "[1] R² is computed without centering (uncentered) since the model does not contain a constant.\n",
      "[2] Standard Errors assume that the covariance matrix of the errors is correctly specified.\n",
      "[3] The condition number is large, 1.4e+05. This might indicate that there are\n",
      "strong multicollinearity or other numerical problems.\n",
      "                       feature          VIF\n",
      "6   3#Chiller_cooling_out_temp  1051.009905\n",
      "5    3#Chiller_cooling_in_temp   884.319248\n",
      "8                   3-CH-UA(V)   220.114676\n",
      "2     3#Chiller_freeze_in_temp    88.663840\n",
      "10                  3-CH-F(HZ)    84.499041\n",
      "0                         Temp    75.224785\n",
      "3    3#Chiller_freeze_out_temp    74.343206\n",
      "14                       Month    47.967495\n",
      "13                         Day     5.843039\n",
      "1                    3#Chiller     5.440838\n",
      "11  3#chiller_cooling_capacity     4.438487\n",
      "4        3#Chiller_freeze_Flow     4.236635\n",
      "7       3#Chiller_cooling_Flow     4.171897\n",
      "12                        Hour     3.906408\n",
      "15                     weekday     3.352772\n",
      "9                   3-CH-IA(A)     1.205490\n"
     ]
    }
   ],
   "source": [
    "indep3.remove(\"humid\")\n",
    "get_stats(df = chiller3, x = indep3, y = '3#Chiller_power' )\n",
    "get_VIF(indep3, chiller3)"
   ]
  },
  {
   "cell_type": "code",
   "execution_count": 47,
   "id": "f0173ace",
   "metadata": {},
   "outputs": [
    {
     "name": "stdout",
     "output_type": "stream",
     "text": [
      "                                 OLS Regression Results                                \n",
      "=======================================================================================\n",
      "Dep. Variable:        3#Chiller_power   R-squared (uncentered):                   0.882\n",
      "Model:                            OLS   Adj. R-squared (uncentered):              0.882\n",
      "Method:                 Least Squares   F-statistic:                              7416.\n",
      "Date:                Mon, 18 Jul 2022   Prob (F-statistic):                        0.00\n",
      "Time:                        17:52:01   Log-Likelihood:                         -65936.\n",
      "No. Observations:               14880   AIC:                                  1.319e+05\n",
      "Df Residuals:                   14865   BIC:                                  1.320e+05\n",
      "Df Model:                          15                                                  \n",
      "Covariance Type:            nonrobust                                                  \n",
      "==============================================================================================\n",
      "                                 coef    std err          t      P>|t|      [0.025      0.975]\n",
      "----------------------------------------------------------------------------------------------\n",
      "Temp                           0.1075      0.054      1.996      0.046       0.002       0.213\n",
      "3#Chiller                     88.5711      1.009     87.763      0.000      86.593      90.549\n",
      "3#Chiller_freeze_in_temp       0.1956      0.110      1.785      0.074      -0.019       0.410\n",
      "3#Chiller_freeze_out_temp      0.3908      0.104      3.767      0.000       0.187       0.594\n",
      "3#Chiller_freeze_Flow         -0.0141      0.002     -5.782      0.000      -0.019      -0.009\n",
      "3#Chiller_cooling_in_temp     -0.0749      0.199     -0.376      0.707      -0.465       0.315\n",
      "3#Chiller_cooling_out_temp     0.9774      0.210      4.658      0.000       0.566       1.389\n",
      "3#Chiller_cooling_Flow        -0.0072      0.002     -2.950      0.003      -0.012      -0.002\n",
      "3-CH-UA(V)                    -0.0009      0.000     -8.167      0.000      -0.001      -0.001\n",
      "3-CH-IA(A)                     0.0016      0.000     13.493      0.000       0.001       0.002\n",
      "3-CH-F(HZ)                    -0.0008      0.000     -2.620      0.009      -0.001      -0.000\n",
      "3#chiller_cooling_capacity     0.0591      0.001     69.868      0.000       0.057       0.061\n",
      "Hour                           0.0088      0.025      0.360      0.719      -0.039       0.057\n",
      "Day                           -0.2071      0.022     -9.284      0.000      -0.251      -0.163\n",
      "Month                         -0.8659      0.154     -5.635      0.000      -1.167      -0.565\n",
      "==============================================================================\n",
      "Omnibus:                     4509.454   Durbin-Watson:                   0.445\n",
      "Prob(Omnibus):                  0.000   Jarque-Bera (JB):           192066.736\n",
      "Skew:                          -0.733   Prob(JB):                         0.00\n",
      "Kurtosis:                      20.540   Cond. No.                     1.39e+05\n",
      "==============================================================================\n",
      "\n",
      "Notes:\n",
      "[1] R² is computed without centering (uncentered) since the model does not contain a constant.\n",
      "[2] Standard Errors assume that the covariance matrix of the errors is correctly specified.\n",
      "[3] The condition number is large, 1.39e+05. This might indicate that there are\n",
      "strong multicollinearity or other numerical problems.\n",
      "                       feature          VIF\n",
      "6   3#Chiller_cooling_out_temp  1050.900955\n",
      "5    3#Chiller_cooling_in_temp   880.454765\n",
      "8                   3-CH-UA(V)   215.427703\n",
      "2     3#Chiller_freeze_in_temp    88.659284\n",
      "10                  3-CH-F(HZ)    84.493778\n",
      "0                         Temp    74.760146\n",
      "3    3#Chiller_freeze_out_temp    74.334431\n",
      "14                       Month    47.856318\n",
      "13                         Day     5.822852\n",
      "1                    3#Chiller     5.431749\n",
      "11  3#chiller_cooling_capacity     4.438372\n",
      "4        3#Chiller_freeze_Flow     4.229771\n",
      "7       3#Chiller_cooling_Flow     4.167248\n",
      "12                        Hour     3.906265\n",
      "9                   3-CH-IA(A)     1.205468\n"
     ]
    }
   ],
   "source": [
    "indep3.remove(\"weekday\")\n",
    "get_stats(df = chiller3, x = indep3, y = '3#Chiller_power' )\n",
    "get_VIF(indep3, chiller3)"
   ]
  },
  {
   "cell_type": "code",
   "execution_count": 48,
   "id": "1f4bfd4e",
   "metadata": {},
   "outputs": [
    {
     "name": "stdout",
     "output_type": "stream",
     "text": [
      "                                 OLS Regression Results                                \n",
      "=======================================================================================\n",
      "Dep. Variable:        3#Chiller_power   R-squared (uncentered):                   0.882\n",
      "Model:                            OLS   Adj. R-squared (uncentered):              0.882\n",
      "Method:                 Least Squares   F-statistic:                              7947.\n",
      "Date:                Mon, 18 Jul 2022   Prob (F-statistic):                        0.00\n",
      "Time:                        17:52:48   Log-Likelihood:                         -65936.\n",
      "No. Observations:               14880   AIC:                                  1.319e+05\n",
      "Df Residuals:                   14866   BIC:                                  1.320e+05\n",
      "Df Model:                          14                                                  \n",
      "Covariance Type:            nonrobust                                                  \n",
      "==============================================================================================\n",
      "                                 coef    std err          t      P>|t|      [0.025      0.975]\n",
      "----------------------------------------------------------------------------------------------\n",
      "Temp                           0.1091      0.054      2.033      0.042       0.004       0.214\n",
      "3#Chiller                     88.5742      1.009     87.772      0.000      86.596      90.552\n",
      "3#Chiller_freeze_in_temp       0.1920      0.109      1.760      0.078      -0.022       0.406\n",
      "3#Chiller_freeze_out_temp      0.3928      0.104      3.792      0.000       0.190       0.596\n",
      "3#Chiller_freeze_Flow         -0.0140      0.002     -5.774      0.000      -0.019      -0.009\n",
      "3#Chiller_cooling_in_temp     -0.0729      0.199     -0.366      0.714      -0.463       0.317\n",
      "3#Chiller_cooling_out_temp     0.9731      0.209      4.645      0.000       0.562       1.384\n",
      "3#Chiller_cooling_Flow        -0.0072      0.002     -2.941      0.003      -0.012      -0.002\n",
      "3-CH-UA(V)                    -0.0009      0.000     -8.231      0.000      -0.001      -0.001\n",
      "3-CH-IA(A)                     0.0016      0.000     13.490      0.000       0.001       0.002\n",
      "3-CH-F(HZ)                    -0.0008      0.000     -2.622      0.009      -0.001      -0.000\n",
      "3#chiller_cooling_capacity     0.0591      0.001     69.923      0.000       0.057       0.061\n",
      "Day                           -0.2072      0.022     -9.286      0.000      -0.251      -0.163\n",
      "Month                         -0.8668      0.154     -5.642      0.000      -1.168      -0.566\n",
      "==============================================================================\n",
      "Omnibus:                     4508.710   Durbin-Watson:                   0.445\n",
      "Prob(Omnibus):                  0.000   Jarque-Bera (JB):           191977.438\n",
      "Skew:                          -0.733   Prob(JB):                         0.00\n",
      "Kurtosis:                      20.535   Cond. No.                     1.39e+05\n",
      "==============================================================================\n",
      "\n",
      "Notes:\n",
      "[1] R² is computed without centering (uncentered) since the model does not contain a constant.\n",
      "[2] Standard Errors assume that the covariance matrix of the errors is correctly specified.\n",
      "[3] The condition number is large, 1.39e+05. This might indicate that there are\n",
      "strong multicollinearity or other numerical problems.\n",
      "                       feature          VIF\n",
      "6   3#Chiller_cooling_out_temp  1047.389224\n",
      "5    3#Chiller_cooling_in_temp   879.766142\n",
      "8                   3-CH-UA(V)   208.847328\n",
      "2     3#Chiller_freeze_in_temp    87.919173\n",
      "10                  3-CH-F(HZ)    84.491270\n",
      "0                         Temp    74.251017\n",
      "3    3#Chiller_freeze_out_temp    74.116838\n",
      "13                       Month    47.842726\n",
      "12                         Day     5.822686\n",
      "1                    3#Chiller     5.431373\n",
      "11  3#chiller_cooling_capacity     4.429631\n",
      "4        3#Chiller_freeze_Flow     4.226817\n",
      "7       3#Chiller_cooling_Flow     4.164128\n",
      "9                   3-CH-IA(A)     1.205223\n"
     ]
    }
   ],
   "source": [
    "indep3.remove(\"Hour\")\n",
    "get_stats(df = chiller3, x = indep3, y = '3#Chiller_power' )\n",
    "get_VIF(indep3, chiller3)"
   ]
  },
  {
   "cell_type": "code",
   "execution_count": 49,
   "id": "09d37749",
   "metadata": {},
   "outputs": [
    {
     "name": "stdout",
     "output_type": "stream",
     "text": [
      "                                 OLS Regression Results                                \n",
      "=======================================================================================\n",
      "Dep. Variable:        3#Chiller_power   R-squared (uncentered):                   0.882\n",
      "Model:                            OLS   Adj. R-squared (uncentered):              0.882\n",
      "Method:                 Least Squares   F-statistic:                              8558.\n",
      "Date:                Mon, 18 Jul 2022   Prob (F-statistic):                        0.00\n",
      "Time:                        17:53:22   Log-Likelihood:                         -65936.\n",
      "No. Observations:               14880   AIC:                                  1.319e+05\n",
      "Df Residuals:                   14867   BIC:                                  1.320e+05\n",
      "Df Model:                          13                                                  \n",
      "Covariance Type:            nonrobust                                                  \n",
      "==============================================================================================\n",
      "                                 coef    std err          t      P>|t|      [0.025      0.975]\n",
      "----------------------------------------------------------------------------------------------\n",
      "Temp                           0.1065      0.053      2.002      0.045       0.002       0.211\n",
      "3#Chiller                     88.5974      1.007     87.971      0.000      86.623      90.571\n",
      "3#Chiller_freeze_in_temp       0.1941      0.109      1.782      0.075      -0.019       0.408\n",
      "3#Chiller_freeze_out_temp      0.3889      0.103      3.774      0.000       0.187       0.591\n",
      "3#Chiller_freeze_Flow         -0.0141      0.002     -5.792      0.000      -0.019      -0.009\n",
      "3#Chiller_cooling_out_temp     0.9072      0.107      8.460      0.000       0.697       1.117\n",
      "3#Chiller_cooling_Flow        -0.0071      0.002     -2.932      0.003      -0.012      -0.002\n",
      "3-CH-UA(V)                    -0.0009      0.000     -8.245      0.000      -0.001      -0.001\n",
      "3-CH-IA(A)                     0.0016      0.000     13.493      0.000       0.001       0.002\n",
      "3-CH-F(HZ)                    -0.0008      0.000     -2.634      0.008      -0.001      -0.000\n",
      "3#chiller_cooling_capacity     0.0592      0.001     71.068      0.000       0.058       0.061\n",
      "Day                           -0.2074      0.022     -9.296      0.000      -0.251      -0.164\n",
      "Month                         -0.8826      0.147     -5.985      0.000      -1.172      -0.594\n",
      "==============================================================================\n",
      "Omnibus:                     4507.146   Durbin-Watson:                   0.445\n",
      "Prob(Omnibus):                  0.000   Jarque-Bera (JB):           191727.316\n",
      "Skew:                          -0.733   Prob(JB):                         0.00\n",
      "Kurtosis:                      20.524   Cond. No.                     1.39e+05\n",
      "==============================================================================\n",
      "\n",
      "Notes:\n",
      "[1] R² is computed without centering (uncentered) since the model does not contain a constant.\n",
      "[2] Standard Errors assume that the covariance matrix of the errors is correctly specified.\n",
      "[3] The condition number is large, 1.39e+05. This might indicate that there are\n",
      "strong multicollinearity or other numerical problems.\n",
      "                       feature         VIF\n",
      "5   3#Chiller_cooling_out_temp  274.447389\n",
      "7                   3-CH-UA(V)  205.991969\n",
      "2     3#Chiller_freeze_in_temp   87.657551\n",
      "9                   3-CH-F(HZ)   84.419291\n",
      "3    3#Chiller_freeze_out_temp   73.354071\n",
      "0                         Temp   72.955166\n",
      "12                       Month   44.086973\n",
      "11                         Day    5.820057\n",
      "1                    3#Chiller    5.409986\n",
      "10  3#chiller_cooling_capacity    4.296099\n",
      "4        3#Chiller_freeze_Flow    4.221158\n",
      "6       3#Chiller_cooling_Flow    4.160918\n",
      "8                   3-CH-IA(A)    1.205152\n"
     ]
    }
   ],
   "source": [
    "indep3.remove(\"3#Chiller_cooling_in_temp\")\n",
    "get_stats(df = chiller3, x = indep3, y = '3#Chiller_power' )\n",
    "get_VIF(indep3, chiller3)"
   ]
  },
  {
   "cell_type": "code",
   "execution_count": 50,
   "id": "7e2004dd",
   "metadata": {},
   "outputs": [
    {
     "name": "stdout",
     "output_type": "stream",
     "text": [
      "                                 OLS Regression Results                                \n",
      "=======================================================================================\n",
      "Dep. Variable:        3#Chiller_power   R-squared (uncentered):                   0.882\n",
      "Model:                            OLS   Adj. R-squared (uncentered):              0.882\n",
      "Method:                 Least Squares   F-statistic:                              9270.\n",
      "Date:                Mon, 18 Jul 2022   Prob (F-statistic):                        0.00\n",
      "Time:                        17:53:58   Log-Likelihood:                         -65937.\n",
      "No. Observations:               14880   AIC:                                  1.319e+05\n",
      "Df Residuals:                   14868   BIC:                                  1.320e+05\n",
      "Df Model:                          12                                                  \n",
      "Covariance Type:            nonrobust                                                  \n",
      "==============================================================================================\n",
      "                                 coef    std err          t      P>|t|      [0.025      0.975]\n",
      "----------------------------------------------------------------------------------------------\n",
      "Temp                           0.1009      0.053      1.900      0.057      -0.003       0.205\n",
      "3#Chiller                     88.4090      1.002     88.265      0.000      86.446      90.372\n",
      "3#Chiller_freeze_out_temp      0.5425      0.057      9.593      0.000       0.432       0.653\n",
      "3#Chiller_freeze_Flow         -0.0143      0.002     -5.895      0.000      -0.019      -0.010\n",
      "3#Chiller_cooling_out_temp     0.9085      0.107      8.472      0.000       0.698       1.119\n",
      "3#Chiller_cooling_Flow        -0.0073      0.002     -3.010      0.003      -0.012      -0.003\n",
      "3-CH-UA(V)                    -0.0008      0.000     -8.095      0.000      -0.001      -0.001\n",
      "3-CH-IA(A)                     0.0016      0.000     13.475      0.000       0.001       0.002\n",
      "3-CH-F(HZ)                    -0.0008      0.000     -2.619      0.009      -0.001      -0.000\n",
      "3#chiller_cooling_capacity     0.0588      0.001     73.759      0.000       0.057       0.060\n",
      "Day                           -0.2138      0.022     -9.709      0.000      -0.257      -0.171\n",
      "Month                         -0.9381      0.144     -6.508      0.000      -1.221      -0.656\n",
      "==============================================================================\n",
      "Omnibus:                     4493.241   Durbin-Watson:                   0.444\n",
      "Prob(Omnibus):                  0.000   Jarque-Bera (JB):           191704.788\n",
      "Skew:                          -0.727   Prob(JB):                         0.00\n",
      "Kurtosis:                      20.524   Cond. No.                     1.38e+05\n",
      "==============================================================================\n",
      "\n",
      "Notes:\n",
      "[1] R² is computed without centering (uncentered) since the model does not contain a constant.\n",
      "[2] Standard Errors assume that the covariance matrix of the errors is correctly specified.\n",
      "[3] The condition number is large, 1.38e+05. This might indicate that there are\n",
      "strong multicollinearity or other numerical problems.\n",
      "                       feature         VIF\n",
      "4   3#Chiller_cooling_out_temp  274.433790\n",
      "6                   3-CH-UA(V)  185.509696\n",
      "8                   3-CH-F(HZ)   84.413867\n",
      "0                         Temp   72.699714\n",
      "11                       Month   42.120180\n",
      "2    3#Chiller_freeze_out_temp   22.088842\n",
      "10                         Day    5.669154\n",
      "1                    3#Chiller    5.350405\n",
      "3        3#Chiller_freeze_Flow    4.209186\n",
      "5       3#Chiller_cooling_Flow    4.153464\n",
      "9   3#chiller_cooling_capacity    3.929569\n",
      "7                   3-CH-IA(A)    1.205020\n"
     ]
    }
   ],
   "source": [
    "indep3.remove(\"3#Chiller_freeze_in_temp\")\n",
    "get_stats(df = chiller3, x = indep3, y = '3#Chiller_power' )\n",
    "get_VIF(indep3, chiller3)"
   ]
  },
  {
   "cell_type": "code",
   "execution_count": 51,
   "id": "3614344e",
   "metadata": {},
   "outputs": [
    {
     "name": "stdout",
     "output_type": "stream",
     "text": [
      "                                 OLS Regression Results                                \n",
      "=======================================================================================\n",
      "Dep. Variable:        3#Chiller_power   R-squared (uncentered):                   0.882\n",
      "Model:                            OLS   Adj. R-squared (uncentered):              0.882\n",
      "Method:                 Least Squares   F-statistic:                          1.011e+04\n",
      "Date:                Mon, 18 Jul 2022   Prob (F-statistic):                        0.00\n",
      "Time:                        17:54:38   Log-Likelihood:                         -65939.\n",
      "No. Observations:               14880   AIC:                                  1.319e+05\n",
      "Df Residuals:                   14869   BIC:                                  1.320e+05\n",
      "Df Model:                          11                                                  \n",
      "Covariance Type:            nonrobust                                                  \n",
      "==============================================================================================\n",
      "                                 coef    std err          t      P>|t|      [0.025      0.975]\n",
      "----------------------------------------------------------------------------------------------\n",
      "3#Chiller                     88.3424      1.001     88.245      0.000      86.380      90.305\n",
      "3#Chiller_freeze_out_temp      0.5085      0.054      9.477      0.000       0.403       0.614\n",
      "3#Chiller_freeze_Flow         -0.0141      0.002     -5.796      0.000      -0.019      -0.009\n",
      "3#Chiller_cooling_out_temp     1.0652      0.069     15.549      0.000       0.931       1.200\n",
      "3#Chiller_cooling_Flow        -0.0071      0.002     -2.935      0.003      -0.012      -0.002\n",
      "3-CH-UA(V)                    -0.0008      0.000     -8.305      0.000      -0.001      -0.001\n",
      "3-CH-IA(A)                     0.0016      0.000     13.482      0.000       0.001       0.002\n",
      "3-CH-F(HZ)                    -0.0008      0.000     -2.604      0.009      -0.001      -0.000\n",
      "3#chiller_cooling_capacity     0.0587      0.001     73.737      0.000       0.057       0.060\n",
      "Day                           -0.2192      0.022    -10.043      0.000      -0.262      -0.176\n",
      "Month                         -1.0012      0.140     -7.136      0.000      -1.276      -0.726\n",
      "==============================================================================\n",
      "Omnibus:                     4511.158   Durbin-Watson:                   0.443\n",
      "Prob(Omnibus):                  0.000   Jarque-Bera (JB):           192871.208\n",
      "Skew:                          -0.732   Prob(JB):                         0.00\n",
      "Kurtosis:                      20.577   Cond. No.                     1.38e+05\n",
      "==============================================================================\n",
      "\n",
      "Notes:\n",
      "[1] R² is computed without centering (uncentered) since the model does not contain a constant.\n",
      "[2] Standard Errors assume that the covariance matrix of the errors is correctly specified.\n",
      "[3] The condition number is large, 1.38e+05. This might indicate that there are\n",
      "strong multicollinearity or other numerical problems.\n",
      "                       feature         VIF\n",
      "5                   3-CH-UA(V)  183.934632\n",
      "3   3#Chiller_cooling_out_temp  111.989754\n",
      "7                   3-CH-F(HZ)   84.408157\n",
      "10                       Month   39.886310\n",
      "1    3#Chiller_freeze_out_temp   19.885243\n",
      "9                          Day    5.572330\n",
      "0                    3#Chiller    5.343853\n",
      "2        3#Chiller_freeze_Flow    4.195821\n",
      "4       3#Chiller_cooling_Flow    4.146617\n",
      "8   3#chiller_cooling_capacity    3.922877\n",
      "6                   3-CH-IA(A)    1.204993\n"
     ]
    }
   ],
   "source": [
    "indep3.remove(\"Temp\")\n",
    "get_stats(df = chiller3, x = indep3, y = '3#Chiller_power' )\n",
    "get_VIF(indep3, chiller3)"
   ]
  },
  {
   "cell_type": "code",
   "execution_count": 52,
   "id": "ac55c424",
   "metadata": {},
   "outputs": [
    {
     "name": "stdout",
     "output_type": "stream",
     "text": [
      "                                 OLS Regression Results                                \n",
      "=======================================================================================\n",
      "Dep. Variable:        3#Chiller_power   R-squared (uncentered):                   0.882\n",
      "Model:                            OLS   Adj. R-squared (uncentered):              0.881\n",
      "Method:                 Least Squares   F-statistic:                          1.106e+04\n",
      "Date:                Mon, 18 Jul 2022   Prob (F-statistic):                        0.00\n",
      "Time:                        17:55:08   Log-Likelihood:                         -65974.\n",
      "No. Observations:               14880   AIC:                                  1.320e+05\n",
      "Df Residuals:                   14870   BIC:                                  1.320e+05\n",
      "Df Model:                          10                                                  \n",
      "Covariance Type:            nonrobust                                                  \n",
      "==============================================================================================\n",
      "                                 coef    std err          t      P>|t|      [0.025      0.975]\n",
      "----------------------------------------------------------------------------------------------\n",
      "3#Chiller                     88.4228      1.003     88.128      0.000      86.456      90.389\n",
      "3#Chiller_freeze_out_temp      0.3189      0.049      6.553      0.000       0.224       0.414\n",
      "3#Chiller_freeze_Flow         -0.0157      0.002     -6.491      0.000      -0.020      -0.011\n",
      "3#Chiller_cooling_out_temp     0.7721      0.059     13.120      0.000       0.657       0.887\n",
      "3#Chiller_cooling_Flow        -0.0064      0.002     -2.644      0.008      -0.011      -0.002\n",
      "3-CH-IA(A)                     0.0015      0.000     13.138      0.000       0.001       0.002\n",
      "3-CH-F(HZ)                    -0.0024      0.000    -10.107      0.000      -0.003      -0.002\n",
      "3#chiller_cooling_capacity     0.0595      0.001     75.156      0.000       0.058       0.061\n",
      "Day                           -0.2171      0.022     -9.925      0.000      -0.260      -0.174\n",
      "Month                         -1.0986      0.140     -7.841      0.000      -1.373      -0.824\n",
      "==============================================================================\n",
      "Omnibus:                     4605.144   Durbin-Watson:                   0.450\n",
      "Prob(Omnibus):                  0.000   Jarque-Bera (JB):           198029.156\n",
      "Skew:                          -0.763   Prob(JB):                         0.00\n",
      "Kurtosis:                      20.807   Cond. No.                     3.02e+04\n",
      "==============================================================================\n",
      "\n",
      "Notes:\n",
      "[1] R² is computed without centering (uncentered) since the model does not contain a constant.\n",
      "[2] Standard Errors assume that the covariance matrix of the errors is correctly specified.\n",
      "[3] The condition number is large, 3.02e+04. This might indicate that there are\n",
      "strong multicollinearity or other numerical problems.\n",
      "                      feature        VIF\n",
      "3  3#Chiller_cooling_out_temp  82.252943\n",
      "6                  3-CH-F(HZ)  50.705132\n",
      "9                       Month  39.607346\n",
      "1   3#Chiller_freeze_out_temp  16.285039\n",
      "8                         Day   5.571585\n",
      "0                   3#Chiller   5.343353\n",
      "2       3#Chiller_freeze_Flow   4.167136\n",
      "4      3#Chiller_cooling_Flow   4.141692\n",
      "7  3#chiller_cooling_capacity   3.863694\n",
      "5                  3-CH-IA(A)   1.203151\n"
     ]
    }
   ],
   "source": [
    "indep3.remove(\"3-CH-UA(V)\")\n",
    "get_stats(df = chiller3, x = indep3, y = '3#Chiller_power' )\n",
    "get_VIF(indep3, chiller3)"
   ]
  },
  {
   "cell_type": "code",
   "execution_count": 53,
   "id": "26da30a7",
   "metadata": {},
   "outputs": [
    {
     "name": "stdout",
     "output_type": "stream",
     "text": [
      "                                 OLS Regression Results                                \n",
      "=======================================================================================\n",
      "Dep. Variable:        3#Chiller_power   R-squared (uncentered):                   0.880\n",
      "Model:                            OLS   Adj. R-squared (uncentered):              0.880\n",
      "Method:                 Least Squares   F-statistic:                          1.213e+04\n",
      "Date:                Mon, 18 Jul 2022   Prob (F-statistic):                        0.00\n",
      "Time:                        17:55:29   Log-Likelihood:                         -66059.\n",
      "No. Observations:               14880   AIC:                                  1.321e+05\n",
      "Df Residuals:                   14871   BIC:                                  1.322e+05\n",
      "Df Model:                           9                                                  \n",
      "Covariance Type:            nonrobust                                                  \n",
      "==============================================================================================\n",
      "                                 coef    std err          t      P>|t|      [0.025      0.975]\n",
      "----------------------------------------------------------------------------------------------\n",
      "3#Chiller                     87.5409      1.007     86.946      0.000      85.567      89.514\n",
      "3#Chiller_freeze_out_temp      0.2799      0.049      5.730      0.000       0.184       0.376\n",
      "3#Chiller_freeze_Flow         -0.0144      0.002     -5.928      0.000      -0.019      -0.010\n",
      "3#Chiller_cooling_Flow        -0.0065      0.002     -2.673      0.008      -0.011      -0.002\n",
      "3-CH-IA(A)                     0.0016      0.000     13.652      0.000       0.001       0.002\n",
      "3-CH-F(HZ)                    -0.0007      0.000     -3.310      0.001      -0.001      -0.000\n",
      "3#chiller_cooling_capacity     0.0606      0.001     76.487      0.000       0.059       0.062\n",
      "Day                           -0.0839      0.019     -4.307      0.000      -0.122      -0.046\n",
      "Month                          0.1602      0.103      1.560      0.119      -0.041       0.362\n",
      "==============================================================================\n",
      "Omnibus:                     4371.993   Durbin-Watson:                   0.438\n",
      "Prob(Omnibus):                  0.000   Jarque-Bera (JB):           193746.080\n",
      "Skew:                          -0.673   Prob(JB):                         0.00\n",
      "Kurtosis:                      20.626   Cond. No.                     3.01e+04\n",
      "==============================================================================\n",
      "\n",
      "Notes:\n",
      "[1] R² is computed without centering (uncentered) since the model does not contain a constant.\n",
      "[2] Standard Errors assume that the covariance matrix of the errors is correctly specified.\n",
      "[3] The condition number is large, 3.01e+04. This might indicate that there are\n",
      "strong multicollinearity or other numerical problems.\n",
      "                      feature        VIF\n",
      "5                  3-CH-F(HZ)  34.792681\n",
      "8                       Month  21.035148\n",
      "1   3#Chiller_freeze_out_temp  16.224325\n",
      "0                   3#Chiller   5.319375\n",
      "7                         Day   4.372163\n",
      "2       3#Chiller_freeze_Flow   4.160244\n",
      "3      3#Chiller_cooling_Flow   4.141646\n",
      "6  3#chiller_cooling_capacity   3.822362\n",
      "4                  3-CH-IA(A)   1.200805\n"
     ]
    }
   ],
   "source": [
    "indep3.remove(\"3#Chiller_cooling_out_temp\")\n",
    "get_stats(df = chiller3, x = indep3, y = '3#Chiller_power' )\n",
    "get_VIF(indep3, chiller3)"
   ]
  },
  {
   "cell_type": "code",
   "execution_count": 54,
   "id": "6c0461cb",
   "metadata": {},
   "outputs": [
    {
     "name": "stdout",
     "output_type": "stream",
     "text": [
      "                                 OLS Regression Results                                \n",
      "=======================================================================================\n",
      "Dep. Variable:        3#Chiller_power   R-squared (uncentered):                   0.880\n",
      "Model:                            OLS   Adj. R-squared (uncentered):              0.880\n",
      "Method:                 Least Squares   F-statistic:                          1.364e+04\n",
      "Date:                Mon, 18 Jul 2022   Prob (F-statistic):                        0.00\n",
      "Time:                        17:56:01   Log-Likelihood:                         -66065.\n",
      "No. Observations:               14880   AIC:                                  1.321e+05\n",
      "Df Residuals:                   14872   BIC:                                  1.322e+05\n",
      "Df Model:                           8                                                  \n",
      "Covariance Type:            nonrobust                                                  \n",
      "==============================================================================================\n",
      "                                 coef    std err          t      P>|t|      [0.025      0.975]\n",
      "----------------------------------------------------------------------------------------------\n",
      "3#Chiller                     87.5402      1.007     86.917      0.000      85.566      89.514\n",
      "3#Chiller_freeze_out_temp      0.1999      0.042      4.707      0.000       0.117       0.283\n",
      "3#Chiller_freeze_Flow         -0.0157      0.002     -6.536      0.000      -0.020      -0.011\n",
      "3#Chiller_cooling_Flow        -0.0064      0.002     -2.604      0.009      -0.011      -0.002\n",
      "3-CH-IA(A)                     0.0016      0.000     13.513      0.000       0.001       0.002\n",
      "3#chiller_cooling_capacity     0.0609      0.001     77.273      0.000       0.059       0.062\n",
      "Day                           -0.1037      0.019     -5.588      0.000      -0.140      -0.067\n",
      "Month                         -0.0811      0.072     -1.122      0.262      -0.223       0.061\n",
      "==============================================================================\n",
      "Omnibus:                     4439.796   Durbin-Watson:                   0.436\n",
      "Prob(Omnibus):                  0.000   Jarque-Bera (JB):           196599.509\n",
      "Skew:                          -0.697   Prob(JB):                         0.00\n",
      "Kurtosis:                      20.753   Cond. No.                     9.46e+03\n",
      "==============================================================================\n",
      "\n",
      "Notes:\n",
      "[1] R² is computed without centering (uncentered) since the model does not contain a constant.\n",
      "[2] Standard Errors assume that the covariance matrix of the errors is correctly specified.\n",
      "[3] The condition number is large, 9.46e+03. This might indicate that there are\n",
      "strong multicollinearity or other numerical problems.\n",
      "                      feature        VIF\n",
      "1   3#Chiller_freeze_out_temp  12.254865\n",
      "7                       Month  10.428807\n",
      "0                   3#Chiller   5.319375\n",
      "3      3#Chiller_cooling_Flow   4.139889\n",
      "2       3#Chiller_freeze_Flow   4.054858\n",
      "6                         Day   3.961814\n",
      "5  3#chiller_cooling_capacity   3.777614\n",
      "4                  3-CH-IA(A)   1.198384\n"
     ]
    }
   ],
   "source": [
    "indep3.remove(\"3-CH-F(HZ)\")\n",
    "get_stats(df = chiller3, x = indep3, y = '3#Chiller_power' )\n",
    "get_VIF(indep3, chiller3)"
   ]
  },
  {
   "cell_type": "code",
   "execution_count": 55,
   "id": "c49cb366",
   "metadata": {},
   "outputs": [
    {
     "name": "stdout",
     "output_type": "stream",
     "text": [
      "                                 OLS Regression Results                                \n",
      "=======================================================================================\n",
      "Dep. Variable:        3#Chiller_power   R-squared (uncentered):                   0.880\n",
      "Model:                            OLS   Adj. R-squared (uncentered):              0.880\n",
      "Method:                 Least Squares   F-statistic:                          1.559e+04\n",
      "Date:                Mon, 18 Jul 2022   Prob (F-statistic):                        0.00\n",
      "Time:                        17:56:25   Log-Likelihood:                         -66065.\n",
      "No. Observations:               14880   AIC:                                  1.321e+05\n",
      "Df Residuals:                   14873   BIC:                                  1.322e+05\n",
      "Df Model:                           7                                                  \n",
      "Covariance Type:            nonrobust                                                  \n",
      "==============================================================================================\n",
      "                                 coef    std err          t      P>|t|      [0.025      0.975]\n",
      "----------------------------------------------------------------------------------------------\n",
      "3#Chiller                     87.3481      0.993     88.007      0.000      85.403      89.294\n",
      "3#Chiller_freeze_out_temp      0.1608      0.024      6.644      0.000       0.113       0.208\n",
      "3#Chiller_freeze_Flow         -0.0157      0.002     -6.533      0.000      -0.020      -0.011\n",
      "3#Chiller_cooling_Flow        -0.0064      0.002     -2.613      0.009      -0.011      -0.002\n",
      "3-CH-IA(A)                     0.0016      0.000     13.537      0.000       0.001       0.002\n",
      "3#chiller_cooling_capacity     0.0609      0.001     77.688      0.000       0.059       0.062\n",
      "Day                           -0.1049      0.019     -5.663      0.000      -0.141      -0.069\n",
      "==============================================================================\n",
      "Omnibus:                     4408.105   Durbin-Watson:                   0.436\n",
      "Prob(Omnibus):                  0.000   Jarque-Bera (JB):           196012.461\n",
      "Skew:                          -0.684   Prob(JB):                         0.00\n",
      "Kurtosis:                      20.728   Cond. No.                     9.33e+03\n",
      "==============================================================================\n",
      "\n",
      "Notes:\n",
      "[1] R² is computed without centering (uncentered) since the model does not contain a constant.\n",
      "[2] Standard Errors assume that the covariance matrix of the errors is correctly specified.\n",
      "[3] The condition number is large, 9.33e+03. This might indicate that there are\n",
      "strong multicollinearity or other numerical problems.\n",
      "                      feature       VIF\n",
      "0                   3#Chiller  5.165526\n",
      "3      3#Chiller_cooling_Flow  4.139620\n",
      "2       3#Chiller_freeze_Flow  4.054842\n",
      "1   3#Chiller_freeze_out_temp  3.978183\n",
      "6                         Day  3.948381\n",
      "5  3#chiller_cooling_capacity  3.747003\n",
      "4                  3-CH-IA(A)  1.197919\n"
     ]
    }
   ],
   "source": [
    "indep3.remove(\"Month\")\n",
    "get_stats(df = chiller3, x = indep3, y = '3#Chiller_power' )\n",
    "get_VIF(indep3, chiller3)"
   ]
  },
  {
   "cell_type": "code",
   "execution_count": 56,
   "id": "6179884f",
   "metadata": {},
   "outputs": [
    {
     "data": {
      "text/plain": [
       "3#Chiller_pred                     1.000000\n",
       "3#chiller_cooling_capacity_pred    0.644578\n",
       "3#Chiller_freeze_out_temp_pred     0.167094\n",
       "Day_pred                           0.127544\n",
       "3#Chiller_freeze_Flow_pred         0.081726\n",
       "3-CH-IA(A)_pred                    0.039181\n",
       "3#Chiller_cooling_Flow_pred        0.031653\n",
       "dtype: float64"
      ]
     },
     "execution_count": 56,
     "metadata": {},
     "output_type": "execute_result"
    }
   ],
   "source": [
    "test3 = contributions(df = chiller3, x_list = indep3, y = '3#Chiller_power')\n",
    "test3[0]"
   ]
  },
  {
   "cell_type": "code",
   "execution_count": 57,
   "id": "68f8232b",
   "metadata": {},
   "outputs": [
    {
     "data": {
      "image/png": "[encoded data removed]",
      "text/plain": [
       "<Figure size 432x288 with 1 Axes>"
      ]
     },
     "metadata": {
      "needs_background": "light"
     },
     "output_type": "display_data"
    }
   ],
   "source": [
    "ax = plt.barh(['switch','cooling capacity','feeze out temp','day','freeze flow','current','cooling Flow'\n",
    "               ], \n",
    "              test3[0].values)  \n",
    "plt.gca().invert_yaxis()"
   ]
  },
  {
   "cell_type": "code",
   "execution_count": 58,
   "id": "936c360d",
   "metadata": {},
   "outputs": [],
   "source": [
    "chiller3_decomp_day  = test3[1].resample('D').sum()\n",
    "chiller3_decomp_week = test3[1].resample('W').sum()"
   ]
  },
  {
   "cell_type": "code",
   "execution_count": 59,
   "id": "20e6e8fd",
   "metadata": {},
   "outputs": [
    {
     "data": {
      "image/png": "[encoded data removed]",
      "text/plain": [
       "<Figure size 432x288 with 1 Axes>"
      ]
     },
     "metadata": {
      "needs_background": "light"
     },
     "output_type": "display_data"
    }
   ],
   "source": [
    "chiller3_decomp_day['Pred'].plot(color='r', marker='*')\n",
    "chiller3_decomp_day['3#Chiller_power'].plot();"
   ]
  },
  {
   "cell_type": "code",
   "execution_count": 60,
   "id": "cc13efaf",
   "metadata": {},
   "outputs": [
    {
     "data": {
      "image/png": "[encoded data removed]",
      "text/plain": [
       "<Figure size 432x288 with 1 Axes>"
      ]
     },
     "metadata": {
      "needs_background": "light"
     },
     "output_type": "display_data"
    }
   ],
   "source": [
    "chiller3_decomp_week['Pred'].plot(color='r', marker='*')\n",
    "chiller3_decomp_week['3#Chiller_power'].plot();"
   ]
  },
  {
   "cell_type": "code",
   "execution_count": null,
   "id": "3f631ae9",
   "metadata": {},
   "outputs": [],
   "source": []
  },
  {
   "cell_type": "code",
   "execution_count": null,
   "id": "c175a711",
   "metadata": {},
   "outputs": [],
   "source": []
  },
  {
   "cell_type": "code",
   "execution_count": null,
   "id": "47ad103f",
   "metadata": {},
   "outputs": [],
   "source": []
  }
 ],
 "metadata": {
  "kernelspec": {
   "display_name": "Python 3 (ipykernel)",
   "language": "python",
   "name": "python3"
  },
  "language_info": {
   "codemirror_mode": {
    "name": "ipython",
    "version": 3
   },
   "file_extension": ".py",
   "mimetype": "text/x-python",
   "name": "python",
   "nbconvert_exporter": "python",
   "pygments_lexer": "ipython3",
   "version": "3.10.5"
  }
 },
 "nbformat": 4,
 "nbformat_minor": 5
}
